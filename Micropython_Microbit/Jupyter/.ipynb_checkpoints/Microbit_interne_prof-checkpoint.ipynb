{
 "cells": [
  {
   "cell_type": "markdown",
   "id": "initial-unknown",
   "metadata": {},
   "source": [
    "Programmation de base de la carte Microbit\n",
    "==========================================\n",
    "\n",
    "![Image microbit](../Images/microbit-front.png)\n",
    "\n",
    "Attention il faut avoir installer le kernel ubit pour Jupyter pour travailler avec ce Notebook Jupyter\n",
    "https://github.com/takluyver/ubit_kernel\n",
    "\n",
    "**Il faut brancher une carte Microbit avant d'exécuter les cellules en Micropython !**"
   ]
  },
  {
   "cell_type": "code",
   "execution_count": 1,
   "id": "serial-steps",
   "metadata": {},
   "outputs": [],
   "source": [
    "import microbit # bibliothèque nécessaire pour travailler avec la carte microbit\n",
    "microbit.display.clear() # on efface les leds"
   ]
  },
  {
   "cell_type": "markdown",
   "id": "composed-harvard",
   "metadata": {},
   "source": [
    "\n",
    "Activité pratique Informatique embarquée AP-IE01P\n",
    "-------------------------------------------------\n",
    "\n",
    "### *Programmation de base : structure de contrôle If*\n",
    "\n",
    "**Ce programme allume une LED si on appuie sur le bouton poussoir ‘a’.**"
   ]
  },
  {
   "cell_type": "code",
   "execution_count": 3,
   "id": "sonic-language",
   "metadata": {},
   "outputs": [],
   "source": [
    "# programme 1\n",
    "for i in range(100): # remplace While True : pour ne pas bloquer !\n",
    "    if microbit.button_a.is_pressed():\n",
    "        microbit.display.set_pixel(2,2,9)\n",
    "    microbit.sleep(100) # spécifique Jupyter Notebook Microbit"
   ]
  },
  {
   "cell_type": "markdown",
   "id": "higher-motorcycle",
   "metadata": {},
   "source": [
    "\n",
    "Syntaxe Micropython\n",
    "-------------------\n",
    "\n",
    "La syntaxe de Micropython est la même que celle de Python.\n",
    "\n",
    "Je profite de ce premier exemple en micropython pour présenter la mise\n",
    "en forme\n",
    "\n",
    "-   Après une boucle for on place une liste d'élements finis que l'on va appeler successivement et on doit\n",
    "    impérativement mettre un **:** en fin de ligne\n",
    "-   Toutes les lignes qui sont dans cette boucle devront être\n",
    "    **indentées** (on se décale d’une tabulation de 4 caratères\n",
    "    habituellement)\n",
    "-   Après un if on a la même chose, une condition et un **:**  \n",
    "-   Toutes les lignes qui correspondent au then sont **indentées**,\n",
    "    décalage d’une tabulation, soit 2 tabulations pour la ligne\n",
    "    microbit.display.set_pixel()\n",
    "\n",
    "*Remarque* : pas besoin de parenthèse pour la condition du if et pas\n",
    "besoin de ; à la fin de chaque ligne, les accolades sont remplacées par\n",
    "des : et l’indentation."
   ]
  },
  {
   "cell_type": "markdown",
   "id": "legendary-police",
   "metadata": {},
   "source": [
    "### Remarque Importante :\n",
    "\n",
    "Dans les programmes qui suivent vous ne trouverez par un **While True :** pour faire la boucle principale mais 2 lignes :\n",
    "\n",
    "```python\n",
    "for i in range(100): \n",
    "    ...\n",
    "    ...\n",
    "    microbit.sleep(100)\n",
    "```\n",
    "Cela vous donne dans ce cas 100 * 100ms soit 10 secondes pour essayer le programme, ensuite la boucle for est finie et on pourra continuer la progression dans ce Notebook ou bien retester ce programme.\n",
    "\n",
    "Évidemment, vous pouvez changer le temps avec *for i in range(300)* vous aurez 30 secondes poue essayer votre programme.\n",
    "\n",
    "Si vous mettez un While True : vous allez donner la main au microbit mais pour toujours.\n",
    "\n",
    "Dans ce cas, pour avoir la main et tester d'autres programmes dans ce Notebook, il faudra aller dans la rubrique Noyau et redémarrer le noyau. "
   ]
  },
  {
   "cell_type": "markdown",
   "id": "returning-trauma",
   "metadata": {},
   "source": [
    "\n",
    "### Q1) Que se passe-t-il si j’appuie sur le bouton poussoir ‘a’ et que je le relâche ?\n",
    "\n",
    "<span style=\"color:red\">La LED s’allume et ne s’éteint pas ! <br> Le\n",
    "programme ne fait que ce qu’on lui dit clairement, on ne lui a jamais\n",
    "demandé d’éteindre la LED !</span>"
   ]
  },
  {
   "cell_type": "markdown",
   "id": "nonprofit-frame",
   "metadata": {},
   "source": [
    "Activité pratique Informatique embarquée AP-IE02P\n",
    "-------------------------------------------------\n",
    "\n",
    "### *Programmation de base : structure de contrôle If … else*\n",
    "\n",
    "**Ce programme allume une LED si on appuie sur le bouton poussoir ‘a’,\n",
    "l’éteint dans le cas contraire.**"
   ]
  },
  {
   "cell_type": "code",
   "execution_count": 4,
   "id": "alternate-diagram",
   "metadata": {},
   "outputs": [],
   "source": [
    "# programme 2\n",
    "for i in range(100):\n",
    "    if microbit.button_a.is_pressed(): # bouton appuyé ?\n",
    "        microbit.display.set_pixel(2,2,9)\n",
    "    else :\n",
    "        microbit.display.set_pixel(2,2,0)\n",
    "    microbit.sleep(100)"
   ]
  },
  {
   "cell_type": "markdown",
   "id": "engaged-friendly",
   "metadata": {},
   "source": [
    "### Q2) Expliquez le rôle de else (sinon)\n",
    "\n",
    "<span style=\"color:red\">Le “else” sinon permet d’éteindre la LED quand\n",
    "on appuie pas sur le bouton</span>"
   ]
  },
  {
   "cell_type": "markdown",
   "id": "pediatric-discovery",
   "metadata": {},
   "source": [
    "Utilisation d’un bouton poussoir interne\n",
    "----------------------------------------\n",
    "\n",
    "### Classe Bouton\n",
    "\n",
    "Représente un bouton.\n",
    "\n",
    "`Remarque :`\n",
    "\n",
    "`Cette classe n'est pas réellement disponible pour l'utilisateur, elle n'est utilisée que par les deux instances du bouton, qui sont fournies déjà initialisées.`\n",
    "\n",
    "*is_pressed()*\n",
    "\n",
    "    Retourne Vrai si on appuie actuellement sur le bouton spécifié et sinon Faux.\n",
    "\n",
    "*was_pressed()*\n",
    "\n",
    "    Retourne Vrai ou Faux pour indiquer si on a appuyé sur le bouton depuis le démarrage de l'appareil ou depuis le dernier appel de cette méthode.   \n",
    "     À chaque appel, l'état du bouton revient à Faux.  \n",
    "     Il faut un nouvel appui sur le bouton pour qu'il revienne à True.\n",
    "\n",
    "*get_presses()*\n",
    "\n",
    "    Retourne le nombre total de fois où l'on a appuyé sur le bouton,  \n",
    "    et remet ce total à zéro à la fin de cette méthode.\n",
    "\n",
    "https://microbit-micropython.readthedocs.io/fr/latest/button.html"
   ]
  },
  {
   "cell_type": "markdown",
   "id": "existing-startup",
   "metadata": {},
   "source": [
    "\n",
    "Affichage sur les LED\n",
    "---------------------\n",
    "\n",
    "### Display\n",
    "\n",
    "Ce module contrôle l’affichage de la matrice de LED 5x5 situé sur le devant de\n",
    "votre carte. Il peut-être utilisé pour afficher des images, des animations et même du texte.\n",
    "\n",
    "*microbit.display.set_pixel(x, y, value) :*\n",
    "\n",
    "    Définit la valeur(value) de la luminosité de la LED de la colonne x et de la ligne y.\n",
    "\n",
    "    Cette valeur est un entier compris entre 0 (éteint) et 9 (brillante).\n",
    "\n",
    "https://microbit-micropython.readthedocs.io/fr/latest/display.html\n"
   ]
  },
  {
   "cell_type": "markdown",
   "id": "small-lender",
   "metadata": {},
   "source": [
    "\n",
    "Algorigrammes\n",
    "-------------\n",
    "\n",
    "### Q3) Donner l’algorigramme du programme n°1\n",
    "\n",
    "![Algo_Si](../Images/algo_si_µB.svg) Algorigramme du simple\n",
    "**Si**"
   ]
  },
  {
   "cell_type": "markdown",
   "id": "biological-welsh",
   "metadata": {},
   "source": [
    "### Q4) Donner l’algorigramme du programme n°2\n",
    "\n",
    "![Algo_Si](../Images/algo_si_sinon_µB.svg) Algorigramme du **Si\n",
    "– sinon**"
   ]
  },
  {
   "cell_type": "markdown",
   "id": "chief-mayor",
   "metadata": {},
   "source": [
    "Programmation de base : structure de contrôle If multiple AP-IE03P\n",
    "------------------------------------------------------------------\n",
    "\n",
    "### Simulation des boutons Marche Arrêt industriels\n",
    "\n",
    "![bouton_marche_arret](../Images/Marche_Arret.png)\n",
    "\n",
    "-   Le bouton Marche vert est simulé par le bouton b\n",
    "-   Le bouton Arrêt rouge est simulé par le bouton a\n",
    "\n",
    "Si j’appuie sur le bouton ‘b’ la sortie est active j’allume une LED  \n",
    "Sinon je ne fais rien !\n",
    "\n",
    "Si j’appuie sur le bouton ‘a’ la sortie est inactive j’éteins une LED  \n",
    "Sinon je ne fais rien !"
   ]
  },
  {
   "cell_type": "markdown",
   "id": "earned-capitol",
   "metadata": {},
   "source": [
    "### Q5) Proposer le programme"
   ]
  },
  {
   "cell_type": "code",
   "execution_count": 5,
   "id": "extensive-attendance",
   "metadata": {},
   "outputs": [],
   "source": [
    "# programme 3\n",
    "for i in range(100):\n",
    "    if microbit.button_b.is_pressed(): # bouton b : Marche\n",
    "        microbit.display.set_pixel(2,2,9)\n",
    "    if microbit.button_a.is_pressed(): # bouton a : Arrêt\n",
    "        microbit.display.set_pixel(2,2,0)\n",
    "    microbit.sleep(100)"
   ]
  },
  {
   "cell_type": "markdown",
   "id": "incorporated-delaware",
   "metadata": {},
   "source": [
    "### Q6) Que se passe-t-il si on appui plusieurs fois sur le bouton Marche ? (sans appui sur Arrêt)\n",
    "\n",
    "<span style=\"color:red\"> La LED reste allumée, quelque soit le nombre\n",
    "d’appui sur le bouton Marche </span> <br/> <br/>"
   ]
  },
  {
   "cell_type": "markdown",
   "id": "global-planning",
   "metadata": {},
   "source": [
    "### Q7) Que se passe-t-il si on appui plusieurs fois sur le bouton Arrêt ? (sans appui sur Marche)\n",
    "\n",
    "<span style=\"color:red\"> La LED reste éteinte, quelque soit le nombre\n",
    "d’appui sur le bouton Arrêt </span> <br/> <br/>"
   ]
  },
  {
   "cell_type": "markdown",
   "id": "human-stuff",
   "metadata": {},
   "source": [
    "### Q8) Proposer une solution pour que l’arrêt soit prioritaire"
   ]
  },
  {
   "cell_type": "code",
   "execution_count": 6,
   "id": "acoustic-regular",
   "metadata": {},
   "outputs": [],
   "source": [
    "# programme 4\n",
    "for i in range(100):\n",
    "    if microbit.button_a.is_pressed(): # bouton a : Arrêt\n",
    "        microbit.display.set_pixel(2,2,0)\n",
    "    elif microbit.button_b.is_pressed(): # bouton b : Marche\n",
    "        microbit.display.set_pixel(2,2,9)\n",
    "    microbit.sleep(100)"
   ]
  },
  {
   "cell_type": "markdown",
   "id": "ambient-cambodia",
   "metadata": {},
   "source": [
    "Algorigrammes\n",
    "-------------\n",
    "\n",
    "### Q9) Donner l’algorigramme du programme n°3\n",
    "\n",
    "![Algo_Si](../Images/algo_si2_µB.svg)"
   ]
  },
  {
   "cell_type": "markdown",
   "id": "upset-belief",
   "metadata": {},
   "source": [
    "Programmation de base : structure de contrôle if else et mémoire AP-IE04P\n",
    "-------------------------------------------------------------------------\n",
    "\n",
    "### Télérupteur\n",
    "\n",
    "**Si j’appuie sur un des boutons poussoirs la lampe change d’état.**  \n",
    "La lampe est éteinte, j’appuie sur un BP, elle s’allume. J’appuie de\n",
    "nouveau sur un BP, la lampe s’éteint."
   ]
  },
  {
   "cell_type": "code",
   "execution_count": 8,
   "id": "fixed-bacon",
   "metadata": {},
   "outputs": [],
   "source": [
    "# programme 5\n",
    "valeur = 0 # pour avoir la lampe éteinte\n",
    "for i in range(100):\n",
    "    if (microbit.button_b.get_presses() + microbit.button_a.get_presses())%2 == 1 :\n",
    "        valeur = 9-valeur #valeur = 0 : led éteinte, valeur = 9 : led allumée\n",
    "        # on inverse à chaque fois que l'un des boutons a changé d'état un nombre impair de fois\n",
    "        microbit.display.set_pixel(2,2,valeur)\n",
    "    microbit.sleep(100)"
   ]
  },
  {
   "cell_type": "markdown",
   "id": "historical-portsmouth",
   "metadata": {},
   "source": [
    "### La carte Microbit gère les antirebonds."
   ]
  },
  {
   "cell_type": "markdown",
   "id": "indie-commons",
   "metadata": {},
   "source": [
    "### Modulo en python\n",
    "\n",
    "r = x modulo n, r est le reste de la division entière de x par n.  \n",
    "Exemple r = 3 modulo 2, r vaut 1 .  \n",
    "Notation en python r = x%2, r = 0 si x est pair, r = 1 si x est impair.\n"
   ]
  },
  {
   "cell_type": "markdown",
   "id": "stunning-robin",
   "metadata": {},
   "source": [
    "### Q10) Expliquez la ligne :\n",
    "\n",
    "### if (microbit.button_b.get_presses() + microbit.button_a.get_presses()) %2 == 1\n",
    "\n",
    "<span style=\"color:red\"> microbit.button_b.get_presses() +\n",
    "microbit.button_a.get_presses() donne le nombre de fois que l’on a\n",
    "appuyé sur le bouton a ou b<br/> Si on appuie un nombre de fois pair\n",
    "alors la lampe garde son état, sinon elle doit changer d’état.<br/>\n",
    "</span>"
   ]
  },
  {
   "cell_type": "markdown",
   "id": "another-sucking",
   "metadata": {},
   "source": [
    "Algorigrammes\n",
    "-------------\n",
    "\n",
    "### Q11) Donner l’algorigramme du programme n°5\n",
    "\n",
    "![Algo_Télémètre](../Images/algo_telemetre_µB.svg)"
   ]
  },
  {
   "cell_type": "markdown",
   "id": "specified-wayne",
   "metadata": {},
   "source": [
    "Boutons tactiles\n",
    "----------------\n",
    "\n",
    "Les entrées 0,1,2 possèdent des entrées tactiles  \n",
    "Voici un petit exemple :"
   ]
  },
  {
   "cell_type": "code",
   "execution_count": 10,
   "id": "smaller-learning",
   "metadata": {},
   "outputs": [],
   "source": [
    "# programme 6\n",
    "from microbit import *\n",
    "for i in range(100):\n",
    "    if pin0.is_touched():\n",
    "        display.show(Image.HAPPY)\n",
    "    else:\n",
    "        display.show(Image.SAD)\n",
    "    microbit.sleep(100)"
   ]
  },
  {
   "cell_type": "markdown",
   "id": "packed-asbestos",
   "metadata": {},
   "source": [
    "**Le plus simple étant de toucher avec 2 doigts de la main gauche le ‘0’\n",
    "sur le connecteur et avec 2 doigts de la main droite le ‘GND’ sur le\n",
    "connecteur**"
   ]
  },
  {
   "cell_type": "markdown",
   "id": "unknown-vertex",
   "metadata": {},
   "source": [
    "La matrice LED\n",
    "----------------------\n",
    "\n",
    "Pour finir voici quelques exemples avec la matrice LED ![matrice LED](../Images/light-sensing.png)"
   ]
  },
  {
   "cell_type": "code",
   "execution_count": null,
   "id": "needed-yorkshire",
   "metadata": {},
   "outputs": [],
   "source": [
    "# programme 7\n",
    "while True:\n",
    "    if microbit.button_a.was_pressed(): #appuyer sur le bouton A pour sortir de la boucle infinie\n",
    "        break\n",
    "    microbit.display.scroll(\"Bonjour\", delay=200) #attention il faut attendre un cycle complet avant d'arrêter"
   ]
  },
  {
   "cell_type": "markdown",
   "id": "enclosed-athens",
   "metadata": {},
   "source": [
    "### Le programme ci-dessus, vous donne un exemple d’un affichage défilant (scroll) avec un avancement lent\n",
    "\n",
    "Vous pouvez changez la vitesse avec le delay\n",
    "\n",
    "### Voici un autre exemple que l’on peut tester sur Mu avec REPL"
   ]
  },
  {
   "cell_type": "code",
   "execution_count": 13,
   "id": "respective-closure",
   "metadata": {},
   "outputs": [],
   "source": [
    "import microbit\n",
    "display.show('Bonjour !', wait=False, loop=True)"
   ]
  },
  {
   "cell_type": "markdown",
   "id": "documentary-israeli",
   "metadata": {},
   "source": [
    "**En savoir plus**\n",
    "<https://microbit-challenges.readthedocs.io/en/latest/tutorials/display.html>\n",
    "\n",
    "<https://microbit-micropython.readthedocs.io/fr/latest/tutorials/images.html>"
   ]
  },
  {
   "cell_type": "markdown",
   "id": "designing-attraction",
   "metadata": {},
   "source": [
    "# Nous allons utiliser d’autres capteurs de la carte \n",
    "![Image microbit-fonctions](../Images/fonctions-microbit-2-1024x468.jpeg)\n",
    "![Image microbit capteurs](../Images/microbit_details.png)\n",
    "\n",
    "Connaître l’ensemble des Images"
   ]
  },
  {
   "cell_type": "code",
   "execution_count": null,
   "id": "powered-japan",
   "metadata": {},
   "outputs": [],
   "source": [
    "from microbit import * \n",
    "print(dir(Image))"
   ]
  },
  {
   "cell_type": "markdown",
   "id": "involved-canyon",
   "metadata": {},
   "source": [
    "Vous affichera l’ensemble des noms des images possibles et des attributs de image."
   ]
  },
  {
   "cell_type": "markdown",
   "id": "approved-welding",
   "metadata": {},
   "source": [
    "Au niveau logiciel, voici l’ensemble des ‘modules’ ou bibliothèques disponibles\n",
    "-------------------------------------------------------------------------------\n"
   ]
  },
  {
   "cell_type": "code",
   "execution_count": 15,
   "id": "wrapped-michigan",
   "metadata": {},
   "outputs": [
    {
     "name": "stdout",
     "output_type": "stream",
     "text": [
      "__main__          love              os                time\r\n",
      "antigravity       machine           radio             ucollections\r\n",
      "array             math              random            ustruct\r\n",
      "audio             microbit          speech            utime\r\n",
      "builtins          micropython       struct\r\n",
      "collections       music             sys\r\n",
      "gc                neopixel          this\r\n",
      "Plus any modules on the filesystem\r\n"
     ]
    }
   ],
   "source": [
    "help('modules')"
   ]
  },
  {
   "cell_type": "code",
   "execution_count": 16,
   "id": "labeled-student",
   "metadata": {},
   "outputs": [
    {
     "name": "stdout",
     "output_type": "stream",
     "text": [
      "Useful stuff to control the micro:bit hardware.\r\n"
     ]
    }
   ],
   "source": [
    "help(microbit)"
   ]
  },
  {
   "cell_type": "markdown",
   "id": "continuing-moral",
   "metadata": {},
   "source": [
    "### Les outils logiciels pour piloter le matériel : broches, bouton, afficheurs à LED, température, boussole …"
   ]
  },
  {
   "cell_type": "code",
   "execution_count": 17,
   "id": "worldwide-aaron",
   "metadata": {
    "scrolled": true
   },
   "outputs": [
    {
     "name": "stdout",
     "output_type": "stream",
     "text": [
      "['__name__', 'Image', 'display', 'button_a', 'button_b', 'accelerometer', 'compass', 'i2c', 'uart', 'spi', 'reset', 'sleep', 'running_time', 'panic', 'temperature', 'pin0', 'pin1', 'pin2', 'pin3', 'pin4', 'pin5', 'pin6', 'pin7', 'pin8', 'pin9', 'pin10', 'pin11', 'pin12', 'pin13', 'pin14', 'pin15', 'pin16', 'pin19', 'pin20']\r\n"
     ]
    }
   ],
   "source": [
    "print(dir(microbit))"
   ]
  },
  {
   "cell_type": "markdown",
   "id": "comfortable-spice",
   "metadata": {},
   "source": [
    "Le capteur de température interne\n",
    "---------------------------------\n"
   ]
  },
  {
   "cell_type": "code",
   "execution_count": 18,
   "id": "naughty-election",
   "metadata": {},
   "outputs": [],
   "source": [
    "# programme 8\n",
    "while True:\n",
    "    if microbit.button_a.was_pressed(): #appuyer sur le bouton A pour sortir de la boucle infinie\n",
    "        break\n",
    "    microbit.display.scroll(microbit.temperature()) # défilement sur la carte de la température"
   ]
  },
  {
   "cell_type": "markdown",
   "id": "frozen-paraguay",
   "metadata": {},
   "source": [
    "\n",
    "Thermomètre\n",
    "-----------\n",
    "\n",
    "The thermometer on the micro:bit is embedded in one of the chips – and chips get warm when powered up.  \n",
    "Consequently, it doesn’t measure room temperature very accurately.  \n",
    "The chip that is used to measure temperature can be found on the left\n",
    "hand side of the back of the micro:bit :\n",
    "\n",
    "![Image microbit thermomètre](../Images/thermometer.png)\n",
    "\n",
    "Le thermomètre sur la carte micro:bit est à l'intérieur d'un circuit intégré et ceux-ci chauffent quand ils sont sous tension.  \n",
    "Aussi le capteur de température ne fait pas de mesures très précises dans la pièce.  \n",
    "Le circuit intégré qui est utilisé pour mesurer la température se trouve sur le coté gauche au dos de la carte micro:bit"
   ]
  },
  {
   "cell_type": "markdown",
   "id": "acceptable-aquarium",
   "metadata": {},
   "source": [
    "Boussole\n",
    "--------\n",
    "\n",
    "Programmation de base : structure de contrôle if elif pour remplacer le switch case\n",
    "-----------------------------------------------------------------------------------\n",
    "\n",
    "### La fonction switch case n’existe pas en python, on va utiliser une suite de if et elif\n",
    "\n",
    "elif = else +if permet de tester un nombre de cas différents comme dans\n",
    "un menu\n",
    "\n",
    "### Nous allons travailler avec la boussole (compas) intégrer dans la carte Microbit\n",
    "\n",
    "#### Définissons d’abord les images des 8 flèches de la rosace des vents\n",
    "\n",
    "![Rosace des vents](../Images/Rosacedesvents.jpeg)"
   ]
  },
  {
   "cell_type": "code",
   "execution_count": 2,
   "id": "ultimate-pioneer",
   "metadata": {},
   "outputs": [],
   "source": [
    "# Test des flèches\n",
    "fleche_N = microbit.Image(\"00900:00900:00900:00000:00000\")\n",
    "fleche_N_E = microbit.Image(\"00009:00090:00900:00000:00000\")\n",
    "fleche_E = microbit.Image(\"00000:00000:00999:00000:00000\")\n",
    "fleche_S_E = microbit.Image(\"00000:00000:00900:00090:00009\")\n",
    "fleche_S = microbit.Image(\"00000:00000:00900:00900:00900\")\n",
    "fleche_S_O = microbit.Image(\"00000:00000:00900:09000:90000\")\n",
    "fleche_O = microbit.Image(\"00000:00000:99900:00000:00000\")\n",
    "fleche_N_O = microbit.Image(\"90000:09000:00900:00000:00000\")\n",
    "microbit.display.show(fleche_N)\n",
    "microbit.sleep(1000)\n",
    "microbit.display.show(fleche_N_E)\n",
    "microbit.sleep(1000)\n",
    "microbit.display.show(fleche_E)\n",
    "microbit.sleep(1000)\n",
    "microbit.display.show(fleche_S_E)\n",
    "microbit.sleep(1000)\n",
    "microbit.display.show(fleche_S)\n",
    "microbit.sleep(1000)\n",
    "microbit.display.show(fleche_S_O)\n",
    "microbit.sleep(1000)\n",
    "microbit.display.show(fleche_O)\n",
    "microbit.sleep(1000)\n",
    "microbit.display.show(fleche_N_O)"
   ]
  },
  {
   "cell_type": "markdown",
   "id": "welcome-obligation",
   "metadata": {},
   "source": [
    "### Avant d’utiliser la boussole, il faut la calibrer sinon les relevés sont faussés.\n",
    "\n",
    "**Attention**  \n",
    "La calibration de la boussole met le programme en pause tant qu’elle\n",
    "n’est pas achevée.  \n",
    "La calibration se fait au travers d’un jeu qui dessine un cercle sur\n",
    "l’afficheur LED au gré des rotations de la carte.  \n",
    "https://microbit-micropython.readthedocs.io/fr/latest/compass.html"
   ]
  },
  {
   "cell_type": "code",
   "execution_count": 21,
   "id": "minor-chapel",
   "metadata": {},
   "outputs": [],
   "source": [
    "microbit.compass.calibrate()"
   ]
  },
  {
   "cell_type": "code",
   "execution_count": 22,
   "id": "south-toolbox",
   "metadata": {},
   "outputs": [],
   "source": [
    "# programme 9\n",
    "fleche_N = microbit.Image(\"00900:00900:00900:00000:00000\")\n",
    "fleche_N_E = microbit.Image(\"00009:00090:00900:00000:00000\")\n",
    "fleche_E = microbit.Image(\"00000:00000:00999:00000:00000\")\n",
    "fleche_S_E = microbit.Image(\"00000:00000:00900:00090:00009\")\n",
    "fleche_S = microbit.Image(\"00000:00000:00900:00900:00900\")\n",
    "fleche_S_O = microbit.Image(\"00000:00000:00900:09000:90000\")\n",
    "fleche_O = microbit.Image(\"00000:00000:99900:00000:00000\")\n",
    "fleche_N_O = microbit.Image(\"90000:09000:00900:00000:00000\")\n",
    "while True:\n",
    "    if microbit.button_a.is_pressed(): #appuyer sur le bouton A pour sortir du programme\n",
    "        break\n",
    "    aiguille = (225-10 * microbit.compass.heading())%3600 // 450\n",
    "    if aiguille == 0 :\n",
    "        microbit.display.show(fleche_N)\n",
    "    elif aiguille == 1 :\n",
    "        microbit.display.show(fleche_N_E)\n",
    "    elif aiguille == 2 :\n",
    "        microbit.display.show(fleche_E)\n",
    "    elif aiguille == 3 :\n",
    "        microbit.display.show(fleche_S_E)\n",
    "    elif aiguille == 4 :\n",
    "        microbit.display.show(fleche_S)\n",
    "    elif aiguille == 5 :\n",
    "        microbit.display.show(fleche_S_O)\n",
    "    elif aiguille == 6 :\n",
    "        microbit.display.show(fleche_O)\n",
    "    elif aiguille == 7 :\n",
    "        microbit.display.show(fleche_N_O)\n",
    "    else :\n",
    "        microbit.display.show(\"99999:09990:00900:09990:99999\") # erreur"
   ]
  },
  {
   "cell_type": "markdown",
   "id": "analyzed-ladder",
   "metadata": {},
   "source": [
    "### La boussole donne l’angle en degrés de 0° à 359° avec la fonction compass.heading()\n",
    "\n",
    "### Q12) Expliquer la ligne : aiguille = (225 - 10 \\* compass.heading())%3600 // 450\n",
    "\n",
    "**Rappel** - % correspond au modulo c’est le reste de la division\n",
    "entière  \n",
    "- // correspond à la division entière\n",
    "\n",
    "### Q13) Indiquer pour l’Est l’angle minimum et l’angle maximum en degrés où on affiche fleche_E\n",
    "\n",
    "<br/> <br/>\n",
    "\n",
    "### Q13 extra) À quoi sert le else ?\n",
    "\n",
    "<br/> <br/>"
   ]
  },
  {
   "cell_type": "code",
   "execution_count": 23,
   "id": "vanilla-charlotte",
   "metadata": {},
   "outputs": [],
   "source": [
    "# programme 9 bis\n",
    "# version profs avec une liste\n",
    "Rosace_vents=[fleche_N,fleche_N_E,fleche_E,fleche_S_E,fleche_S,fleche_S_O,fleche_O,fleche_N_O] #liste pour profs\n",
    "while True:\n",
    "    if microbit.button_a.is_pressed(): #appuyer sur le bouton A pour sortir de la boucle infinie\n",
    "        break\n",
    "    aiguille = (225-10 * microbit.compass.heading())%3600 // 450\n",
    "    microbit.display.show(Rosace_vents[aiguille]) # utilisation d'une liste"
   ]
  },
  {
   "cell_type": "markdown",
   "id": "precise-extension",
   "metadata": {},
   "source": [
    "### ATTENTION les listes peuvent prendre beaucoup de RAM, surtout les listes d’images !\n",
    "\n",
    "### La carte Microbit n’a que 32ko de RAM, micropython et MICRORAM par rapport à un PC !"
   ]
  },
  {
   "cell_type": "markdown",
   "id": "parental-wound",
   "metadata": {},
   "source": [
    "L’accéléromètre\n",
    "---------------\n",
    "\n",
    "![accéléromètre](../Images/accelerometre.jpeg)\n",
    "\n",
    "### Gestes\n",
    "\n",
    "L’effet collatéral le plus intéressant d’un accélèromètre est la\n",
    "détection des gestes.\n",
    "\n",
    "MicroPython est capable de reconnaître les gestes suivants:\n",
    "\n",
    "    haut-> up\n",
    "    bas -> down\n",
    "    gauche -> left\n",
    "    droite -> right\n",
    "    face en haut -> face up\n",
    "    face en bas -> face down\n",
    "    chute libre -> free fall\n",
    "    accélération correspondant à 3, 6 ou 8 fois celle de la chute libre -> 3g, 6g ou 8g\n",
    "    secousse -> shake\n",
    "\n",
    "Voici le programme :"
   ]
  },
  {
   "cell_type": "code",
   "execution_count": null,
   "id": "innocent-decrease",
   "metadata": {},
   "outputs": [],
   "source": [
    "# programme 10\n",
    "from microbit import *\n",
    "while True :\n",
    "    if microbit.button_a.is_pressed(): #appuyer sur le bouton A pour sortir de la boucle infinie\n",
    "        break\n",
    "    geste = accelerometer.current_gesture()\n",
    "    print(geste)\n",
    "    sleep(200)"
   ]
  },
  {
   "cell_type": "markdown",
   "id": "particular-pakistan",
   "metadata": {},
   "source": [
    "Il faut bouger la carte pour voir tous ces gestes\n",
    "\n",
    "### Graphique avec Mu-code\n",
    "\n",
    "Il faut télécharger ce programme sur la carte Microbit avec ‘Flasher’\n",
    "\n",
    "``` python\n",
    "# programme 10 bis\n",
    "from microbit import *\n",
    "while True :\n",
    "    print(accelerometer.get_values())\n",
    "    sleep(200)\n",
    "```\n",
    "\n",
    "Puis il faut passer en mode Graphique\n",
    "\n",
    "En bougeant la carte vous devriez obtenir un graphe comme celui-ci :\n",
    "\n",
    "![Image accelerometre](../Images/graphe_accelerometre.png)\n"
   ]
  },
  {
   "cell_type": "markdown",
   "id": "departmental-investment",
   "metadata": {},
   "source": [
    "\n",
    "Radio et Bluetooth\n",
    "==================\n",
    "\n",
    "### Le Bluetooth ne fonctionne pas en Micropython sur la carte Microbit\n",
    "\n",
    "Il faut écrire en javascript ou en C++ pour utiliser le module Bluetooth\n",
    "\n",
    "### L’antenne est commune au Bluetooth et à la Radio.\n",
    "\n",
    "Concrètement on utilise l’un ou l’autre pas les 2 en même temps.\n",
    "\n",
    "Le module Radio\n",
    "------------------------\n",
    "\n",
    "![radio](../Images/communication-radio-microbit.png)\n",
    "\n",
    "Pour l’utiliser il faut l’importer avec ‘import’\n",
    "\n",
    "**Voici un exemple simple pour émettre en radio :**  \n",
    "On émet en radio les caractères reçus depuis le clavier"
   ]
  },
  {
   "cell_type": "code",
   "execution_count": null,
   "id": "federal-saudi",
   "metadata": {},
   "outputs": [],
   "source": [
    "# programme 10 \n",
    "# Emetteur radio serie\n",
    "from microbit import *\n",
    "import radio\n",
    "\n",
    "radio.on() # mettre le module radio en marche\n",
    "radio.config(channel=1)     # choisir un numéro de canal radio\n",
    "radio.config(power=7)       # mettre le signal à puissance maximum\n",
    "uart.init(115200)           # initialisation liaison série 115200 bauds\n",
    "\n",
    "while True:                 # boucle infinie\n",
    "    if microbit.button_a.is_pressed(): #appuyer sur le bouton A pour sortir de la boucle infinie\n",
    "        break\n",
    "    if uart.any():          # caractères reçus ? du clavier\n",
    "        message=str(uart.read(),'UTF-8') # si oui, on lit le clavier\n",
    "        radio.send(message) # on envoie le caractère reçu par radio"
   ]
  },
  {
   "cell_type": "markdown",
   "id": "enclosed-plain",
   "metadata": {},
   "source": [
    "Comme nous pouvons le voir, on commence par démarrer le module Radio.  \n",
    "On le configure sur le premier canal et on met la puissance au\n",
    "maximum.  \n",
    "Ensuite on initialise la liaison série (uart) à 115200 bauds\n",
    "\n",
    "Dans la boucle sans fin : while True , l’équivalent de la fonction loop\n",
    "en Arduino  \n",
    "On regarde si on on a reçu un caractère depuis la liaison série avec\n",
    "uart.any()  \n",
    "Si on a reçu un caractère, on lit la liaison série (clavier) uart.read  \n",
    "Enfin on envoie en radio le caractère reçu radio.send\n",
    "\n",
    "<https://microbit-micropython.readthedocs.io/fr/latest/radio.html>\n",
    "\n",
    "<https://microbit-micropython.readthedocs.io/en/latest/uart.html>"
   ]
  },
  {
   "cell_type": "markdown",
   "id": "breeding-prompt",
   "metadata": {},
   "source": [
    "**Voici le programme pour la réception :**  \n",
    "On affiche sur l’écran les caractères reçus en radio."
   ]
  },
  {
   "cell_type": "code",
   "execution_count": null,
   "id": "smoking-potter",
   "metadata": {},
   "outputs": [],
   "source": [
    "# programme 11\n",
    "# Recepteur radio\n",
    "from microbit import *\n",
    "import radio\n",
    "\n",
    "radio.on()\n",
    "radio.config(channel=1)     # choisir un numéro de canal radio\n",
    "radio.config(power=7)       # mettre le signal à puissance maximum\n",
    "\n",
    "while True:\n",
    "    if microbit.button_a.is_pressed(): #appuyer sur le bouton A pour sortir de la boucle infinie\n",
    "        break\n",
    "    message_recu = radio.receive()\n",
    "    if message_recu is not None:  \n",
    "        if message_recu == '\\r' :   \n",
    "            print(message)          \n",
    "            message=''            \n",
    "        else :                   \n",
    "            message+=message_recu"
   ]
  },
  {
   "cell_type": "markdown",
   "id": "mechanical-globe",
   "metadata": {},
   "source": [
    "Pour la partie initialisation, on a la même chose que pour l’émission\n",
    "Radio\n",
    "\n",
    "Pour la boucle sans fin while True  \n",
    "On enregistre le carcatère reçu depuis la radio radio.receive()  \n",
    "On regarde si on a **bien** reçu un caractère ( caractère non nul)  \n",
    "Si on a bien reçu un caractère, on regarde si la ligne est terminée\n",
    "‘\\\\r’  \n",
    "On affiche sur l’écran la ligne terminée par ‘\\\\r’ et ensuite on\n",
    "l’efface  \n",
    "Sinon (ligne non terminée) on sauvegarde les caractères reçus."
   ]
  },
  {
   "cell_type": "markdown",
   "id": "transsexual-wallace",
   "metadata": {},
   "source": [
    "**Voici l’exemple complet de programme d’émetteur, récepteur radio**"
   ]
  },
  {
   "cell_type": "code",
   "execution_count": null,
   "id": "labeled-ridge",
   "metadata": {},
   "outputs": [],
   "source": [
    "# Recepteur radio\n",
    "from microbit import *\n",
    "import radio\n",
    "\n",
    "radio.on()\n",
    "radio.config(channel=1)     # choisir un numéro de canal radio\n",
    "radio.config(power=7)       # mettre le signal à puissance maximum\n",
    "message = ''\n",
    "while True:\n",
    "    message_recu = radio.receive()\n",
    "    if message_recu is not None:\n",
    "        if message_recu == '\\r' :\n",
    "            print(message)\n",
    "            message = ''\n",
    "        else :\n",
    "            message = message + message_recu\n",
    "    if uart.any():          # caractères reçus ?\n",
    "        message_serie = str(uart.read(), 'UTF-8')\n",
    "        radio.send(message_serie)"
   ]
  },
  {
   "cell_type": "markdown",
   "id": "determined-packaging",
   "metadata": {},
   "source": [
    "La radio permet de mettre une carte Microbit qui fait des mesures avec\n",
    "un ou des capteurs àn **l’extérieur** et de recevoir les informations sur une\n",
    "autre carte Microbit à **l’intérieur**, on peut ensuite stocker et traiter\n",
    "ces informations sur un PC.\n",
    "\n",
    "On peut aussi gérer à distance un petit robot en radio.\n",
    "\n",
    "On peut aussi mettre un capteur avec une liaison série sur une carte\n",
    "Microbit et transmettre les informations en radio pour les récupérer en\n",
    "liaison série sur un PC.\n",
    "\n",
    "La carte Microbit ne possède qu’un UART et n’a pas d’UART logiciel.\n",
    "\n",
    "Enfin pour finir voici la communication Réseau ou Network\n",
    "---------------------------------------------------------\n",
    "\n",
    "![Reseau](Images/network.png)"
   ]
  },
  {
   "cell_type": "markdown",
   "id": "meaningful-creature",
   "metadata": {},
   "source": [
    "<https://microbit-micropython.readthedocs.io/fr/latest/tutorials/network.html>\n",
    "\n",
    "Vous trouverez à cette adresse, un exemple de communication en Morse\n",
    "entre 2 cartes Microbit.\n",
    "\n",
    "![Réseau](../Images/network.png)"
   ]
  },
  {
   "cell_type": "code",
   "execution_count": null,
   "id": "weekly-elevation",
   "metadata": {},
   "outputs": [],
   "source": []
  }
 ],
 "metadata": {
  "hide_input": false,
  "kernelspec": {
   "display_name": "micro:bit",
   "language": "python",
   "name": "ubit"
  },
  "language_info": {
   "codemirror_mode": {
    "name": "python",
    "version": 3
   },
   "file_extension": ".py",
   "mimetype": "text/x-python",
   "name": "python",
   "pygments_lexer": "python3",
   "version": "3"
  }
 },
 "nbformat": 4,
 "nbformat_minor": 5
}
