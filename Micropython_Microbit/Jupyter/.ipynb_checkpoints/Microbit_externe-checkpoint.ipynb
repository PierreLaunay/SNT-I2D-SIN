{
 "cells": [
  {
   "cell_type": "markdown",
   "metadata": {},
   "source": [
    "Microbit capteurs externes\n",
    "==========================\n",
    "\n",
    "Pour brancher des capteurs extérieurs, on peut utiliser des pinces crocodiles, mais le plus pratique reste une carte d'interface.\n",
    "\n",
    "Voici les 2 que j'utilise :\n",
    "\n",
    "![Shield Grove](../Images/IMG_0020a.jpeg)\n",
    "\n",
    "Cette carte est pratique a utilisé avec les modules Grove.\n",
    "\n",
    "**Attention** La carte fonctionne sous 3.3V, certains modules pour l'Arduino ne fonctionneront pas !\n",
    "\n",
    "D'autres modules peuvent fonctionner mais leurs bibliothèques ne sont pas disponibles.\n",
    "\n",
    "![breakout board](../Images/breakoutboard.png)\n",
    "\n",
    "Cette carte est à réserver aux enseignants et aux élèves qui font attention."
   ]
  },
  {
   "cell_type": "markdown",
   "metadata": {},
   "source": [
    "Les capteurs externes\n",
    "----------------------\n",
    "- [Afficheur LCD I2C](#Afficheur-LCD-I2C-Grove)\n",
    "- [Barrière Infrarouge](#Barrière-Infrarouge)\n",
    "- [Capteur de luminosité (entrée analogique)](#Capteur-de-luminosité-GA1A1S202WP-entrée-analogique)\n",
    "- [Capteur de température et humidité DHT 11 Grove.](#Capteur-de-température-et-humidité-DHT-11-Grove)\n",
    "- [Horloge temps réel DS3231 RTC (bus I2C)](#Horloge-temps-réel-DS3231-RTC-bus-I2C)\n",
    "- [Capteur BME280](#Capteur-BME280)\n",
    "- [Capteur de particules fines SDS011 (UART liaison série)](#Capteur-de-particules-fines-SDS011-UART-liaison-série)\n",
    "- [Programmes de visualisation de données pour les particules fines en python.](#On-peut-aussi-afficher-la-valeur-avec-ce-programme-PMSensor_pyplot.ipynb-sous-Jupyter-Notebook)\n",
    "- [Récepteur GPS (UART liaison série)](#Récepteur-GPS-UART-liaison-série)\n",
    "- [Capteur Grove Ultrasons](#Capteur-Grove-Ultrasons)\n",
    "- [Chainable RGB LED](#Chainable-RGB-LED)\n",
    "- [Sortie Transistor MOSFET](#Sortie-Transistor-MOSFET)\n",
    "- [Commande Moteur](#Commande-Moteur)\n",
    "- [Bibliothèques Micro:bit](#Bibliothèques-Micro:bit)\n",
    "- [Conclusion](#Conclusion)\n"
   ]
  },
  {
   "cell_type": "markdown",
   "metadata": {},
   "source": [
    "Afficheur LCD I2C Grove\n",
    "-----------------------\n",
    "\n",
    "**Attention** tous les afficheurs ne fonctionnent pas sous 3.3V, l'afficheur LCD_I2C RGB Grove ne fonctionne pas sous 3.3V par contre l'afficheur LCD_I2C Grove (Black on Yellow) fonctionne en 3,3V .\n",
    "\n",
    "![lcd](../Images/LCD_I2C_BoY.jpeg)\n",
    "\n",
    "Voici un exemple très simple avec Vittascience :\n",
    "\n",
    "![afficheur température](../Images/lcd_temp.png)\n",
    "\n",
    "L'afficheur affiche la température du processeur de la carte Micro:bit.\n",
    "\n",
    "On pourra améliorer l'affichage en précisant sur la ligne 1 un texte et la ligne 2 la température ainsi que °C\n",
    "\n",
    "Évidemment, on pourra afficher d'autres choses..."
   ]
  },
  {
   "cell_type": "markdown",
   "metadata": {},
   "source": [
    "Barrière Infrarouge\n",
    "-------------------\n",
    "![Infrarouge](../Images/Infrared_sensors.png)\n",
    "\n",
    "La [documentation](https://www.seeedstudio.com/300mm-Infrared-shooting-sensor-p-2308.html) nous dit qu'il fonctionne en 5V mais il peut fonctionner en 3.3V\n",
    "\n",
    " - Il y a un émetteur avec 2 fils pour l'alimentation.\n",
    " - Un récepteur avec 3 fils que j'ai branché avec un adaptateur sur P0/P14\n",
    "\n",
    "![adaptateur-grove](../Images/5x-cable-adaptateur-grove-vers-jumper-femelle.png)\n",
    "\n",
    " Pour lire une entrée en micropython nous avons la fonction **read_digital()** qui doit être associée à une broche (pin)\n",
    "\n",
    " Exemple :"
   ]
  },
  {
   "cell_type": "code",
   "execution_count": 2,
   "metadata": {},
   "outputs": [
    {
     "name": "stdout",
     "output_type": "stream",
     "text": [
      "0\r\n"
     ]
    }
   ],
   "source": [
    "from microbit import pin14\n",
    "print(pin14.read_digital())"
   ]
  },
  {
   "cell_type": "markdown",
   "metadata": {},
   "source": [
    "Cela ne fonctionne pas !\n",
    "\n",
    "**Pourquoi ?**\n",
    "\n",
    "Regardons la documentation en micropython de la carte microbit sur [les entrées sorties](https://microbit-micropython.readthedocs.io/fr/latest/pin.html)\n",
    "\n",
    "*The pull mode for a pin is automatically configured when the pin changes to an input mode. Input modes are when you call read_analog / read_digital / is_touched. The default pull mode for these is, respectively, NO_PULL, PULL_DOWN, PULL_UP. Calling set_pull will configure the pin to be in read_digital mode with the given pull mode.*\n",
    "\n",
    "Concrètement, la fonction read_digital configure l'entrée en PULL_DOWN (résistance de tirage vers le bas) pour de [plus amples explications](../Hardware/microbit_hardware_V1-5.md)\n",
    "\n",
    "Cette résistance de Pull-Down affaiblit le signal du récepteur Infrarouge.\n",
    "\n",
    "Nous allons ne pas mettre de résistance de tirage, ni vers le bas, ni vers le haut, avec l'instruction set_pull(pin14.NO_PULL) :"
   ]
  },
  {
   "cell_type": "code",
   "execution_count": null,
   "metadata": {},
   "outputs": [],
   "source": [
    "pin14.set_pull(pin14.NO_PULL)\n",
    "print(pin14.read_digital())"
   ]
  },
  {
   "cell_type": "markdown",
   "metadata": {},
   "source": [
    "Cette fois-ci, la barrière infrarouge fonctionne !\n",
    "\n",
    "Pour information, l'instruction is_touched() ne fonctionne pas pour la broche 14, mais elle fonctionne sur la broche 0.\n",
    "\n",
    "- L'instruction  is_touched() répond True (Vrai) si le niveau est \"0\"\n",
    "- L'instruction  is_touched() répond False (Faux) si le niveau est \"1\"\n",
    "\n",
    "Cela est logique puisqu'il utilise un Pull-Up mais pour notre barrière :\n",
    "\n",
    "- Un obstacle correspondra à Vrai\n",
    "- Une bonne réception correspond à Faux (pas d'obstacle)\n",
    "\n",
    "**Attention** pour les entrées, il faut faire attention à la configuration.\n",
    "\n",
    "### Piloter l'émetteur IR\n",
    "\n",
    "Enfin on peut aussi piloter l'émetteur infrarouge avec la fonction write_digital(value)\n",
    "\n",
    "- value = 0, émetteur éteint,\n",
    "- value = 1, émetteur allumé."
   ]
  },
  {
   "cell_type": "markdown",
   "metadata": {},
   "source": [
    "Capteur de luminosité GA1A1S202WP entrée analogique\n",
    "----------------------------------------------------------------------------------\n",
    "\n",
    "![Capteur](../Images/MFG_1384.png)\n",
    "\n",
    "Le capteur [GA1A1S202WP](https://cdn-shop.adafruit.com/datasheets/GA1A1S202WP_Spec.pdf)\n",
    "\n",
    "Ce capteur permet de mesurer la luminosité de 3 à 55000 lux avec une fonction exponentielle."
   ]
  },
  {
   "cell_type": "code",
   "execution_count": null,
   "metadata": {},
   "outputs": [],
   "source": [
    "import microbit\n",
    "valeur=microbit.pin2.read_analog()\n",
    "lux=10**(valeur*4.74/1024)\n",
    "print(lux)"
   ]
  },
  {
   "cell_type": "markdown",
   "metadata": {},
   "source": [
    "Capteur de température et humidité DHT 11 Grove\n",
    "-----------------------------------------------\n",
    "\n",
    "![dht11](../Images/dht11.png)\n",
    "\n",
    "Voici le programme principal du DHT11\n",
    "\n",
    "\n",
    "Il faut une bibliothèque spécifique la classe DHT11 à télécharger depuis github [https://github.com/rhubarbdog/microbit-dht11/blob/master/dht11.py](https://github.com/rhubarbdog/microbit-dht11/blob/master/dht11.py)"
   ]
  },
  {
   "cell_type": "code",
   "execution_count": null,
   "metadata": {},
   "outputs": [],
   "source": [
    "import microbit as uBit\n",
    "import time\n",
    "\n",
    "sensor = DHT11(uBit.pin1)\n",
    "while True:\n",
    "    try:\n",
    "        t , h = sensor.read()\n",
    "        print(\"%2.1f%sC  %2.1f%% \" % (t, DEGREES, h))\n",
    "    except DataError as e:\n",
    "        print(\"Error : \" + str(e))\n",
    "\n",
    "    time.sleep(2)"
   ]
  },
  {
   "cell_type": "markdown",
   "metadata": {},
   "source": [
    "Horloge temps réel DS3231 RTC bus I2C\n",
    "----------------------------------------------------------\n",
    "\n",
    "![DS3231](../Images/DS3231.png)\n",
    "\n",
    "Cette Horloge temps réel permet de la mettre à l'heure et ensuite de lire la date et l'heure.\n",
    "On peut aussi mettre 2 alarmes mais elles ne sont pas gérées dans le code ci-dessous."
   ]
  },
  {
   "cell_type": "code",
   "execution_count": null,
   "metadata": {},
   "outputs": [],
   "source": [
    "from microbit import *\n",
    "\n",
    "def bcd2dec(bcd):\n",
    "    return (((bcd & 0xf0) >> 4) * 10 + (bcd & 0x0f))\n",
    "\n",
    "def dec2bcd(dec):\n",
    "    tens, units = divmod(dec, 10)\n",
    "    return (tens << 4) + units\n",
    "\n",
    "def get_time():\n",
    "    i2c.write(addr, b'\\x00', repeat=False)\n",
    "    buf = i2c.read(addr, 7, repeat=False)\n",
    "    bufs[0] = bcd2dec(buf[0])\n",
    "    bufs[1] = bcd2dec(buf[1])\n",
    "    if buf[2] & 0x40:\n",
    "        hh = bcd2dec(buf[2] & 0x1f)\n",
    "        if buf[2] & 0x20:\n",
    "            hh += 12\n",
    "    else:\n",
    "        hh = bcd2dec(buf[2])\n",
    "    bufs[2]=hh\n",
    "    bufs[3] = buf[3]\n",
    "    bufs[4] = bcd2dec(buf[4])\n",
    "    bufs[5] = bcd2dec(buf[5] & 0x1f)\n",
    "    bufs[6] = bcd2dec(buf[6])\n",
    "    return bufs\n",
    "\n",
    "def set_time(s,m,h,w,dd,mm,yy):\n",
    "    t = bytes([s,m,h,w,dd,mm,yy-2000])\n",
    "    for i in range(0,7):\n",
    "        i2c.write(addr, bytes([i,dec2bcd(t[i])]), repeat=False)\n",
    "    return\n",
    "\n",
    "addr = 0x68\n",
    "buf = bytearray(7)\n",
    "bufs = bytearray(7)\n",
    "set_time(15,03,22,3,23,12,2020)\n",
    "sleep(1000)\n",
    "\n",
    "def affichage_temps() :\n",
    "    temps=get_time()\n",
    "    heure=' '+str(temps[2])+\":\"+str(temps[1])+\":\"+str(temps[0])\n",
    "    jour=str(temps[4])+\"/\"+str(temps[5])+\"/\"+str(2000+temps[6])\n",
    "    uart.write(jour)\n",
    "    uart.write(heure)\n",
    "    uart.write('\\n')\n",
    "\n",
    "if __name__ == '__main__':\n",
    "    affichage_temps()"
   ]
  },
  {
   "cell_type": "markdown",
   "metadata": {},
   "source": [
    "Les sources : [http://www.multiwingspan.co.uk/micro.php?page=rtc](http://www.multiwingspan.co.uk/micro.php?page=rtc)\n",
    "\n",
    "Il existe aussi une [bibliothèque sur github](https://github.com/shaoziyang/microbit-lib/blob/master/misc/DS3231/DS3231.py)"
   ]
  },
  {
   "cell_type": "markdown",
   "metadata": {},
   "source": [
    "Capteur BME280\n",
    "--------------\n",
    "\n",
    "![BME280](../Images/BME280_vma335_front.png)\n",
    "\n",
    "Capteur qui mesure la température, la pression atmosphérique et le taux d'humidité\n",
    "\n",
    "Voici le programme :"
   ]
  },
  {
   "cell_type": "code",
   "execution_count": null,
   "metadata": {},
   "outputs": [],
   "source": [
    "b=BME280()\n",
    "while 1:\n",
    "    sleep(500)\n",
    "    print(b.get())"
   ]
  },
  {
   "cell_type": "markdown",
   "metadata": {},
   "source": [
    "Le programme complet est test_BME280.py qui contient la classe BME280\n",
    "\n",
    "La bibliothèque [BME280 ](https://github.com/shaoziyang/microbit-lib/tree/master/sensor/bme280)\n",
    "\n",
    "Ce capteur utilise le bus I2C"
   ]
  },
  {
   "cell_type": "markdown",
   "metadata": {},
   "source": [
    "Capteur de particules fines SDS011 UART liaison série\n",
    "------------------------------------------------------------------------------\n",
    "\n",
    "![SDS011](../Images/SDS011.jpeg)\n",
    "\n",
    "Ce capteur fonctionne avec la liaison série.\n",
    "\n",
    "Voici les [informations utiles](../Externe/Laser_PM2-5_Sensor.md) pour s'en servir.\n",
    "\n",
    "Comme vous pouvez le voir dans ce programme, on bascule la liaison série entre le capteur de particules fines et l'écran du PC via le port USB pour afficher les valeurs de PM10 et PM2.5"
   ]
  },
  {
   "cell_type": "code",
   "execution_count": null,
   "metadata": {},
   "outputs": [],
   "source": [
    "import microbit,utime\n",
    "microbit.uart.init(baudrate=9600,tx = microbit.pin0, rx = microbit.pin1) # init de la liaison série du capteur de particules fines SDS011 , vitesse 9600 bauds\n",
    "def verification(donnees): #on vérifie les données reçues voir doc SDS011\n",
    "    checksum=sum(donnees[2:8])%256\n",
    "    if (len(donnees) == 10) and (donnees[0] ==170) and (donnees[1] ==192) and (donnees[9] ==171) and (donnees[8] ==checksum) :\n",
    "        return {\"PM 2.5\":(256*donnees[3]+donnees[2])/10, \"PM 10\":(256*donnees[5]+donnees[4])/10, \"Temps\":utime.ticks_ms()} #dictionnaires\n",
    "    else:\n",
    "        return {\"PM 2.5\":None, \"PM 10\":None,\"Temps\":utime.ticks_ms() }\n",
    "while True : #boucle sans fin\n",
    "    # microbit.sleep(10)\n",
    "    if microbit.uart.any() : # caractères reçus depuis le capteur de particules fines SDS011 ?\n",
    "        content=microbit.uart.read(10) #lecture de 10 caractères voir DOC SDS011\n",
    "        message=[c for c in content] #pour transformer les 'bytes' en décimal\n",
    "        microbit.uart.init(baudrate=115200) # on remet la liaison série sur l'USB et on change la vitesse à 115200 bauds\n",
    "        #print(content) # Pour voir les données brutes\n",
    "        #print(message) # Pour voir les données en décimal\n",
    "        print(verification(message)) # Pour n'afficher que les PM 2.5 et PM 10\n",
    "        microbit.uart.init(baudrate=9600,tx = microbit.pin0, rx = microbit.pin1)  # init de la liaison série du capteur de particules fines SDS011"
   ]
  },
  {
   "cell_type": "markdown",
   "metadata": {},
   "source": [
    "Ce programme affiche un dictionnaire python avec 3 arguments PM2.5 et sa valeur µg/m3, PM10 et sa valeur en µg/m3 ainsi temps et sa valeur en ms. C'est la forme la plus simple d'un fichier json.\n",
    "\n",
    "### On peut aussi afficher la valeur avec ce programme PMSensor_pyplot.ipynb sous Jupyter Notebook\n",
    "\n",
    "Voici [ce programme](PMSensor_pyplot/PMSensor_pyplot.ipynb)"
   ]
  },
  {
   "cell_type": "markdown",
   "metadata": {},
   "source": [
    "Récepteur GPS UART liaison série\n",
    "----------------------------------\n",
    "\n",
    "Capteur GY-NE06MV2 ![GPS](../Images/gps.png)\n",
    "\n",
    "Le principe de fonctionnement reste identique aux capteur de particules, la liaison série permet de lire l'information GPS du capteur et de l'afficher sur l'écran du PC."
   ]
  },
  {
   "cell_type": "code",
   "execution_count": null,
   "metadata": {},
   "outputs": [],
   "source": [
    "import microbit,utime\n",
    "microbit.uart.init(baudrate=9600,tx = microbit.pin0, rx = microbit.pin1) # init GPS NEO\n",
    "\n",
    "while True : #boucle sans fin\n",
    "    microbit.sleep(10)\n",
    "    if microbit.uart.any() : # caractères reçus depuis le capteur de particules fines SDS011 ?\n",
    "        content=microbit.uart.read() #lecture de 10 caractères voir DOC SDS011\n",
    "        if 'GPRMC' in content :\n",
    "            microbit.uart.init(baudrate=115200) # on remet la liaison série sur l'USB et on change la vitesse à 115200 bauds\n",
    "            message = content.split()[0] #on prend le premier terme de GPRMC avant un caractère spécial\n",
    "            print(message) # Pour voir les données brutes\n",
    "            microbit.uart.init(baudrate=9600,tx = microbit.pin0, rx = microbit.pin1)"
   ]
  },
  {
   "cell_type": "code",
   "execution_count": null,
   "metadata": {},
   "outputs": [],
   "source": [
    "Ici on affiche les données brutes de la trame  GPRMC\n",
    "\n",
    "À partir de cette documentation extraite de [https://fr.wikipedia.org/wiki/NMEA_0183](https://fr.wikipedia.org/wiki/NMEA_0183)\n",
    "\n",
    "$GPRMC,053740.000,A,2503.6319,N,12136.0099,E,2.69,79.65,100106,,,A*53\n",
    "\n",
    " - $GPRMC       : type de trame\n",
    " - 053740.000   : heure UTC exprimée en hhmmss.sss : 5 h 37 min 40 s\n",
    " - A            : état A=données valides, V=données invalides\n",
    " - 2503.6319    : Latitude exprimée en ddmm.mmmm : 25° 03.6319' = 25° 03' 37,914\"\n",
    " - N            : indicateur de latitude N=nord, S=sud\n",
    " - 12136.0099   : Longitude exprimée en dddmm.mmmm : 121° 36.0099' = 121° 36' 00,594\"\n",
    " - E            : indicateur de longitude E=est, W=ouest\n",
    " - 2.69         : vitesse sur le fond en nœuds (2,69 nd = 3,10 mph = 4,98 km/h)\n",
    " - 79.65        : route sur le fond en degrés\n",
    " - 100106       : date exprimée en qqmmaa : 10 janvier 2006\n",
    " - ,            : déclinaison magnétique en degrés (souvent vide pour un GPS)\n",
    " - ,            : sens de la déclinaison E=est, W=ouest (souvent vide pour un GPS)\n",
    " - A            : mode de positionnement A=autonome, D=DGPS, E=DR\n",
    " - *53          : somme de contrôle de parité au format hexadécimal3\n",
    "\n",
    "Afficher l'heure UTC et la date ainsi que la latitude et la longitude.\n",
    "\n",
    "Pour faire une liste des termes séparés par une virgule en python, on pourra utiliser la fonction split(',')"
   ]
  },
  {
   "cell_type": "markdown",
   "metadata": {},
   "source": [
    "Capteur Grove Ultrasons\n",
    "-----------------------\n",
    "\n",
    "Le capteur à ultrasons permet de mesurer des distances en connaissant la vitesse du son (340 m/s)\n",
    "\n",
    "![capteur_US](../Images/US_ranger.jpeg)\n",
    "\n",
    "Lire [Télémètre_à_ultrasons](../Vittascience/Télémètre_à_ultrasons.pdf) diaporama fait avec un collègue du Lycée Joliot-Curie.\n",
    "\n",
    "Voici un programme qui permet de le Lire"
   ]
  },
  {
   "cell_type": "code",
   "execution_count": null,
   "metadata": {},
   "outputs": [],
   "source": [
    "from microbit import *\n",
    "from time import sleep_us\n",
    "from machine import time_pulse_us\n",
    "\n",
    "def distance(tp, ep):\n",
    "    tp.write_digital(0)\n",
    "    sleep_us(2)\n",
    "    tp.write_digital(1)\n",
    "    sleep_us(10)\n",
    "    tp.write_digital(0)\n",
    "    ep.read_digital()    \n",
    "    ts = time_pulse_us(ep, 1, 30000)\n",
    "    if ts > 0: return ts * 17 // 100\n",
    "    return ts\n",
    "\n",
    "while True:\n",
    "    dist = distance(pin0, pin0) #carte Grove Trigger et Echo sur la même broche\n",
    "    print(dist) #en mm\n",
    "    sleep(500)"
   ]
  },
  {
   "cell_type": "markdown",
   "metadata": {},
   "source": [
    "[time_pulse_us](https://microbit-micropython.readthedocs.io/en/v1.0.1/machine.html) permet de mesurer la largeur d'une impulsion.\n",
    "\n",
    "On pourra améliorer l'affichage en précisant l'unité, ou bien en l'affichant sur la matrice de leds ou sur un afficheur LCD ..."
   ]
  },
  {
   "cell_type": "markdown",
   "metadata": {},
   "source": [
    "Chainable RGB LED\n",
    "-----------------\n",
    "\n",
    "![RGB_LED](../Images/Chainable_RGB_LED.jpeg)\n",
    "\n",
    "Les LED RGB possèdent chacune une entrée et une sortie pour en faire des chaînes.\n",
    "\n",
    "Elles utilisent un circuit spécialisé le [P9813](https://raw.githubusercontent.com/SeeedDocument/Grove-Chainable_RGB_LED/master/res/P9813_datasheet.pdf)\n",
    "\n",
    "Il faut utiliser une bibliothèque spécifique : P9813.py qu'il faut mettre dans la carte microchip avec \"fichiers\" dans Mu-editor\n",
    "\n",
    "Voici un exemple simple d'utilisation :"
   ]
  },
  {
   "cell_type": "code",
   "execution_count": null,
   "metadata": {},
   "outputs": [],
   "source": [
    "from microbit import pin0,pin14\n",
    "import p9813\n",
    "pin0.write_digital(0)\n",
    "pin14.write_digital(0)\n",
    "chain = p9813.P9813(pin0,pin14,2,1)\n",
    "chain[0] = (255, 0, 0)\n",
    "chain[1] = (0, 255, 0)\n",
    "chain.write()"
   ]
  },
  {
   "cell_type": "markdown",
   "metadata": {},
   "source": [
    "Sortie Transistor MOSFET\n",
    "------------------------\n",
    "\n",
    "On va utiliser un module transistor très simple pour allumer un bandeau de 12 leds\n",
    "\n",
    "![SmartArray_LED](../Images/SmartArray_LED.png)\n",
    "![Mosfet_control_kit.jpeg](../Images/Mosfet_control_kit.jpeg)\n",
    "\n",
    "Voici le schéma électrique : ![Sortie_Lampe](../Images/Sortie_Lampe.png)\n",
    "\n",
    "Il faut une alimentation extérieure de 9 V\n",
    "\n",
    "On peut piloter la lampe de 2 façons :\n",
    "\n",
    " 1. Sortie numérique tout ou rien fonction write_digital(valeur) # valeur = 0 ou 1\n",
    " 2. Sortie MLI/PWM pseudo analogique write_analog(valeur) # 0 < valeur <1024\n",
    "\n",
    "La PWM fonctionne sur 12 bits (1024 valeurs) de 0 à 1023, pas de 0.1%  \n",
    "\n",
    "La fréquence de la période peut être réglé par 2 fonctions :\n",
    "\n",
    " - set_analog_period(period) : Set the period of the PWM signal being output to period in milliseconds. The minimum valid value is 1ms.\n",
    "\n",
    "- set_analog_period_microseconds(period) : Set the period of the PWM signal being output to period in microseconds. The minimum valid value is 256µs.\n",
    "\n",
    "Ce programme permet de faire varier la luminosité de la lampe avec une sortie MLI/PWM :"
   ]
  },
  {
   "cell_type": "code",
   "execution_count": null,
   "metadata": {},
   "outputs": [],
   "source": [
    "for i in range(20):\n",
    "    pin16.write_analog(i*50)\n",
    "    sleep(1000)"
   ]
  },
  {
   "cell_type": "markdown",
   "metadata": {},
   "source": [
    "### Commande Moteur  \n",
    "\n",
    "On peut aussi piloter des moteurs mais attention de nombreuses cartes fonctionnent en 5V en entrée.  \n",
    "Il faudra adapter les signaux de la carte Micro:bit qui fonctionne en 3.3V."
   ]
  },
  {
   "cell_type": "markdown",
   "metadata": {},
   "source": [
    "Bibliothèques Micro:bit\n",
    "--------------------------------\n",
    "\n",
    "On trouvera des bibliothèques intéressantes [From microbit/micropython Chinese community.](https://github.com/shaoziyang/microbit-lib) sous licence libre MIT !\n",
    "\n",
    "Vous en trouverez aussi chez [Vittascience](https://fr.vittascience.com/) !"
   ]
  },
  {
   "cell_type": "markdown",
   "metadata": {},
   "source": [
    "Conclusion\n",
    "===========\n",
    "\n",
    "Limite de la carte Microbit, cette carte me semble largement suffisante en seconde et première pour découvrir la programmation.\n",
    "\n",
    "Par contre, si on veut mettre certains capteurs et l'afficheur LCD, la carte est insuffisante, mémoire insuffisante.\n",
    "\n",
    "Pour les terminales, on pourra utiliser d'autres cartes plus puissantes qui fonctionnent avec Micropython.\n",
    "\n",
    "Cartes Pyboard, ESP8266, ESP32 ...\n",
    "\n",
    "À voir la [carte Microbit V2](https://microbit.org/new-microbit/)\n"
   ]
  },
  {
   "cell_type": "code",
   "execution_count": null,
   "metadata": {},
   "outputs": [],
   "source": []
  },
  {
   "cell_type": "code",
   "execution_count": null,
   "metadata": {},
   "outputs": [],
   "source": []
  }
 ],
 "metadata": {
  "hide_input": false,
  "kernelspec": {
   "display_name": "micro:bit",
   "language": "python",
   "name": "ubit"
  },
  "language_info": {
   "codemirror_mode": {
    "name": "python",
    "version": 3
   },
   "file_extension": ".py",
   "mimetype": "text/x-python",
   "name": "python",
   "pygments_lexer": "python3",
   "version": "3"
  }
 },
 "nbformat": 4,
 "nbformat_minor": 4
}
