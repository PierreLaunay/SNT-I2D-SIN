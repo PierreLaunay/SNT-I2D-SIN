{
 "cells": [
  {
   "cell_type": "markdown",
   "metadata": {},
   "source": [
    "# Graphe pyplot construite avec les données de la liaison série"
   ]
  },
  {
   "cell_type": "markdown",
   "metadata": {},
   "source": [
    "## La ou les graphes peuvent être faits avec une carte Arduino ou une Carte Microbit\n",
    "\n",
    "###  Exemple utilisé : Transfert par radio entre 2 cartes Microbit de données d'un capteur de température Grove"
   ]
  },
  {
   "cell_type": "code",
   "execution_count": 5,
   "metadata": {
    "hide_input": true
   },
   "outputs": [],
   "source": [
    "import serial,json # bibliothèque pyserial à installer\n",
    "import matplotlib.pyplot as plt\n",
    "from os import path\n",
    "from IPython.display import clear_output"
   ]
  },
  {
   "cell_type": "code",
   "execution_count": 18,
   "metadata": {
    "hide_input": true
   },
   "outputs": [],
   "source": [
    "def graph(x,y,z,seuil=100):\n",
    "    x = x[-seuil:] if len(x)>seuil else x #prend les 100 dernières valeurs\n",
    "    y = y[-seuil:] if len(y)>seuil else y\n",
    "    z = z[-seuil:] if len(z)>seuil else z    \n",
    "    plt.plot(x,y, label='PM2.5 from serial')\n",
    "    plt.plot(x,z, label='PM10 from serial')\n",
    "    plt.xlabel('temps (s)')\n",
    "    plt.ylabel('PM 2.5 - PM 10')\n",
    "    plt.title('How to plot serial data with pyplot')\n",
    "    plt.legend()\n",
    "    plt.show(block=False)"
   ]
  },
  {
   "cell_type": "code",
   "execution_count": 19,
   "metadata": {
    "hide_input": true
   },
   "outputs": [],
   "source": [
    "def sauvegarde():\n",
    "    question = \"Voulez-vous sauvegarder les données collectées ? [Oui/non]\"\n",
    "    while (demande := input(question).lower()) not in [\"\",\"oui\",\"non\"] : pass #marche seulement en 3.8.5 opérateur morse\n",
    "    return False if demande == \"non\" else True"
   ]
  },
  {
   "cell_type": "code",
   "execution_count": 24,
   "metadata": {
    "hide_input": true
   },
   "outputs": [],
   "source": [
    "def writer(file,line,data):\n",
    "    fichier = open(file,\"a\")\n",
    "    data[\"ligne\"] = i\n",
    "    fichier.write(json.dumps(data)) # écriture dans le fichier\n",
    "    fichier.write(\"\\n\")\n",
    "    fichier.close() #on ferme le fichier, on ouvre écrit et ferme rapidement en attendant la prochaine ligne"
   ]
  },
  {
   "cell_type": "code",
   "execution_count": 25,
   "metadata": {
    "hide_input": true
   },
   "outputs": [
    {
     "name": "stdout",
     "output_type": "stream",
     "text": [
      "{'Temps': 5252195, 'PM 2.5': 8.1, 'PM 10': 15.0}\n"
     ]
    },
    {
     "data": {
      "image/png": "[encoded data removed]",
      "text/plain": [
       "<Figure size 432x288 with 1 Axes>"
      ]
     },
     "metadata": {
      "needs_background": "light"
     },
     "output_type": "display_data"
    }
   ],
   "source": [
    "ser = serial.Serial('/dev/ttyACM0',115200) # Port de la carte Microbit ou Arduino ou ttyUSBx ou COMx\n",
    "x,y,z = [], [], []\n",
    "file = 'donnees.tmp'\n",
    "stock = sauvegarde()\n",
    "if stock and path.exists(file):\n",
    "    fichier = open(file,\"w\") #vide le fichier donnée\n",
    "    fichier.close()\n",
    "for i in range(120) :\t#1000 lignes, on peut modifier si besoin\n",
    "    line = ser.readline().decode('utf8')# lecture de la ligne du port série,\n",
    "    try :\n",
    "        data = json.loads(line.replace(\"'\",'\"'))\n",
    "        print(data) \n",
    "    except json.JSONDecodeError:\n",
    "        print(line)\n",
    "        continue\n",
    "    x.append(data['Temps']/1000) # temps en seconde\n",
    "    y.append(data[\"PM 2.5\"])\n",
    "    z.append(data[\"PM 10\"])\n",
    "    if stock: writer(file,i,data)\n",
    "    graph(x,y,z)\n",
    "    clear_output(wait=True)\n",
    "\n",
    "ser.close()\t\t# on ferme le port série"
   ]
  },
  {
   "cell_type": "code",
   "execution_count": null,
   "metadata": {},
   "outputs": [],
   "source": []
  }
 ],
 "metadata": {
  "hide_input": false,
  "kernelspec": {
   "display_name": "Python 3",
   "language": "python",
   "name": "python3"
  },
  "language_info": {
   "codemirror_mode": {
    "name": "ipython",
    "version": 3
   },
   "file_extension": ".py",
   "mimetype": "text/x-python",
   "name": "python",
   "nbconvert_exporter": "python",
   "pygments_lexer": "ipython3",
   "version": "3.8.5"
  }
 },
 "nbformat": 4,
 "nbformat_minor": 4
}
