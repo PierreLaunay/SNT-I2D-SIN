{
  "nbformat": 4,
  "nbformat_minor": 0,
  "metadata": {
    "colab": {
      "name": "Untitled0.ipynb",
      "provenance": [],
      "collapsed_sections": []
    },
    "kernelspec": {
      "name": "python3",
      "display_name": "Python 3"
    }
  },
  "cells": [
    {
      "cell_type": "code",
      "metadata": {
        "id": "bc6r1BYklKC0",
        "colab_type": "code",
        "colab": {}
      },
      "source": [
        "from google.colab import drive\n",
        "drive.mount('/content/drive')\n",
        "for i in os.listdir('/content/drive/My Drive/Colab Notebooks'):print(i)\n"
      ],
      "execution_count": 0,
      "outputs": []
    },
    {
      "cell_type": "code",
      "metadata": {
        "id": "fBwC3yQxE_Q2",
        "colab_type": "code",
        "colab": {
          "base_uri": "https://localhost:8080/",
          "height": 90
        },
        "outputId": "832fad3f-bbb4-474d-8b5f-84f8a74f1f8b"
      },
      "source": [
        "try : import pywget\n",
        "except ModuleNotFoundError : \n",
        "  !pip install pywget\n",
        "finally : import pywget"
      ],
      "execution_count": 3,
      "outputs": [
        {
          "output_type": "stream",
          "text": [
            "Collecting pywget\n",
            "  Downloading https://files.pythonhosted.org/packages/55/8b/6c565c0c52ab1a543f0548180601b0f97d387a2c4e40b2a43e384365e0fd/pywget-0.26-py2.py3-none-any.whl\n",
            "Installing collected packages: pywget\n",
            "Successfully installed pywget-0.26\n"
          ],
          "name": "stdout"
        }
      ]
    },
    {
      "cell_type": "code",
      "metadata": {
        "id": "CXnj3k_2FrWU",
        "colab_type": "code",
        "colab": {}
      },
      "source": [
        "monimage=pywget.download(\"http://gulliver.eu.org/images/gulogo.png\")"
      ],
      "execution_count": 0,
      "outputs": []
    },
    {
      "cell_type": "code",
      "metadata": {
        "id": "SzQrJLC9GAAj",
        "colab_type": "code",
        "colab": {
          "base_uri": "https://localhost:8080/",
          "height": 82
        },
        "outputId": "3f34ec65-df0a-4eee-e25e-2b8941b46171"
      },
      "source": [
        "from PIL import Image\n",
        "#ma_photo = ('moyenchat.png') # photo réduite pour un affichage plus fluide\n",
        "img = Image.open(monimage)\n",
        "display(img)"
      ],
      "execution_count": 7,
      "outputs": [
        {
          "output_type": "display_data",
          "data": {
            "image/png": "[encoded data removed]",
            "text/plain": [
              "<PIL.PngImagePlugin.PngImageFile image mode=RGBA size=239x65 at 0x7FC682E4BE10>"
            ]
          },
          "metadata": {
            "tags": []
          }
        }
      ]
    },
    {
      "cell_type": "code",
      "metadata": {
        "id": "7x0Y2q7mPJ9j",
        "colab_type": "code",
        "colab": {}
      },
      "source": [
        "mon_image=pywget.download(\"https://raw.githubusercontent.com/PierreLaunay/SNT-I2D-SIN/master/I2D/Cours/Transistor/i2c-level-shifter.png\")"
      ],
      "execution_count": 0,
      "outputs": []
    },
    {
      "cell_type": "code",
      "metadata": {
        "id": "Gp3pnlctPjZp",
        "colab_type": "code",
        "colab": {
          "base_uri": "https://localhost:8080/",
          "height": 35
        },
        "outputId": "b53e8572-1fc4-4fd8-d263-25a370000693"
      },
      "source": [
        "print(mon_image)"
      ],
      "execution_count": 13,
      "outputs": [
        {
          "output_type": "stream",
          "text": [
            "./i2c-level-shifter (1).png\n"
          ],
          "name": "stdout"
        }
      ]
    },
    {
      "cell_type": "code",
      "metadata": {
        "id": "kE2B2vpdPZEH",
        "colab_type": "code",
        "colab": {
          "base_uri": "https://localhost:8080/",
          "height": 269
        },
        "outputId": "def7253c-31cd-4560-93d7-c3b967e8dcba"
      },
      "source": [
        "img = Image.open(mon_image)\n",
        "display(img)"
      ],
      "execution_count": 14,
      "outputs": [
        {
          "output_type": "display_data",
          "data": {
            "image/png": "[encoded data removed]",
            "text/plain": [
              "<PIL.PngImagePlugin.PngImageFile image mode=P size=622x252 at 0x7FC682003F60>"
            ]
          },
          "metadata": {
            "tags": []
          }
        }
      ]
    },
    {
      "cell_type": "code",
      "metadata": {
        "id": "8ij_uEAeUPgU",
        "colab_type": "code",
        "colab": {}
      },
      "source": [
        ""
      ],
      "execution_count": 0,
      "outputs": []
    }
  ]
}