{
 "cells": [
  {
   "cell_type": "markdown",
   "id": "intensive-denial",
   "metadata": {},
   "source": [
    "# AP2 Utilisation d'Openstreetmap pour préparer ma randonnée en forêt."
   ]
  },
  {
   "cell_type": "markdown",
   "id": "extended-english",
   "metadata": {},
   "source": [
    "On travaille avec OpenStreetMap\n",
    "\n",
    "Gwenn habite à Rennes près du lycée Joliot-Curie.\n",
    "\n",
    "Elle propose à son ami Alan d’aller faire une randonnée dans la forêt de Paimpont\n",
    "(35 – Ille et Vilaine).\n",
    "\n",
    "Elle lui propose l’organisation suivante :\n",
    "\n",
    "- Tu me rejoins chez moi et nous partirons en voiture à 10 h du matin et roulerons jusqu’à la mairie de Tréhorenteuc\n",
    "\n",
    "Notre randonnée se fera en 3 parties :\n",
    "1. Nous démarrerons à cet endroit et nous marcherons jusqu’à l’Arbre d’Or\n",
    "près du Miroir aux fées\n",
    "2. Nous irons ensuite à la Fontaine de Barenton\n",
    "3. Nous reviendrons à notre point de départ"
   ]
  },
  {
   "cell_type": "markdown",
   "id": "distant-commons",
   "metadata": {},
   "source": [
    "Pour information, voici les fonctions que nous utiliserons pour calculer le trajet"
   ]
  },
  {
   "cell_type": "code",
   "execution_count": 1,
   "id": "after-booking",
   "metadata": {},
   "outputs": [
    {
     "name": "stdout",
     "output_type": "stream",
     "text": [
      "Collecting pyroutelib3==1.6.3\n",
      "  Downloading pyroutelib3-1.6.3.tar.gz (9.0 kB)\n",
      "Collecting osmiter\n",
      "  Downloading osmiter-1.1.1-py3-none-any.whl (19 kB)\n",
      "Collecting iso8601\n",
      "  Downloading iso8601-0.1.14-py2.py3-none-any.whl (9.5 kB)\n",
      "Requirement already satisfied: typing-extensions in c:\\python\\wpy64-3920\\python-3.9.2.amd64\\lib\\site-packages (from osmiter->pyroutelib3==1.6.3) (3.7.4.3)\n",
      "Requirement already satisfied: protobuf in c:\\python\\wpy64-3920\\python-3.9.2.amd64\\lib\\site-packages (from osmiter->pyroutelib3==1.6.3) (4.0.0rc1)\n",
      "Requirement already satisfied: six>=1.9 in c:\\python\\wpy64-3920\\python-3.9.2.amd64\\lib\\site-packages (from protobuf->osmiter->pyroutelib3==1.6.3) (1.15.0)\n",
      "Requirement already satisfied: setuptools in c:\\python\\wpy64-3920\\python-3.9.2.amd64\\lib\\site-packages (from protobuf->osmiter->pyroutelib3==1.6.3) (54.1.0)\n",
      "Building wheels for collected packages: pyroutelib3\n",
      "  Building wheel for pyroutelib3 (setup.py): started\n",
      "  Building wheel for pyroutelib3 (setup.py): finished with status 'done'\n",
      "  Created wheel for pyroutelib3: filename=pyroutelib3-1.6.3-py3-none-any.whl size=9264 sha256=06793a99fe302b794ec8bb6cdb73c70e8642a88093a842963ac0a4a0ebf2f05f\n",
      "  Stored in directory: c:\\users\\plaunay.350029s.002\\appdata\\local\\pip\\cache\\wheels\\76\\01\\9a\\11be1c16ce0a9df9fb1d43cb535b5651d58a160b1f2a03666b\n",
      "Successfully built pyroutelib3\n",
      "Installing collected packages: iso8601, osmiter, pyroutelib3\n",
      "Successfully installed iso8601-0.1.14 osmiter-1.1.1 pyroutelib3-1.6.3\n"
     ]
    }
   ],
   "source": [
    "try:\n",
    "    import folium\n",
    "except :\n",
    "    !pip install folium\n",
    "\n",
    "try:\n",
    "    import pyroutelib3\n",
    "except ModuleNotFoundError:\n",
    "    !pip install pyroutelib3==1.6.3"
   ]
  },
  {
   "cell_type": "code",
   "execution_count": 2,
   "id": "hired-classification",
   "metadata": {},
   "outputs": [
    {
     "name": "stdout",
     "output_type": "stream",
     "text": [
      "Collecting pyroutelib3==1.6.3\n",
      "  Downloading https://files.pythonhosted.org/packages/7c/9d/09a49f557e97745a6a1d8815b35d33106caca271123ed7c9aafc8e7d50de/pyroutelib3-1.6.3.tar.gz\n",
      "Collecting osmiter (from pyroutelib3==1.6.3)\n",
      "  Downloading https://files.pythonhosted.org/packages/18/ce/4a9b753f94859decf14dea5ce7def150785f3c07bef010526f10d08575f0/osmiter-1.1.1-py3-none-any.whl\n",
      "Collecting iso8601 (from osmiter->pyroutelib3==1.6.3)\n",
      "  Downloading https://files.pythonhosted.org/packages/c5/10/da48dc228b821a64407c2527e1e8ee98917b36e80a181f2ca06ea3cb676b/iso8601-0.1.14-py2.py3-none-any.whl\n",
      "Collecting typing-extensions (from osmiter->pyroutelib3==1.6.3)\n",
      "  Downloading https://files.pythonhosted.org/packages/60/7a/e881b5abb54db0e6e671ab088d079c57ce54e8a01a3ca443f561ccadb37e/typing_extensions-3.7.4.3-py3-none-any.whl\n",
      "Collecting protobuf (from osmiter->pyroutelib3==1.6.3)\n",
      "  Downloading https://files.pythonhosted.org/packages/2e/2c/ee23f24e900ee683a4c57f6b064f194edf611bcf44d8155c59cf643ddabd/protobuf-3.15.6-cp35-cp35m-win_amd64.whl (918kB)\n",
      "Requirement already satisfied (use --upgrade to upgrade): six>=1.9 in c:\\users\\default\\winpython-64bit-3.5.1.3\\python-3.5.1.amd64\\lib\\site-packages (from protobuf->osmiter->pyroutelib3==1.6.3)\n",
      "Building wheels for collected packages: pyroutelib3\n",
      "  Running setup.py bdist_wheel for pyroutelib3: started\n",
      "  Running setup.py bdist_wheel for pyroutelib3: finished with status 'done'\n",
      "  Stored in directory: C:\\Users\\plaunay.350029S\\AppData\\Local\\pip\\Cache\\wheels\\a5\\ce\\65\\8c46e4d94e5e799a3e5b77ef05a0855fea4a2dfd28c0b68f5e\n",
      "Successfully built pyroutelib3\n",
      "Installing collected packages: iso8601, typing-extensions, protobuf, osmiter, pyroutelib3\n",
      "Successfully installed iso8601-0.1.14 osmiter-1.1.1 protobuf-3.15.6 pyroutelib3-1.6.3 typing-extensions-3.7.4.3\n"
     ]
    },
    {
     "name": "stderr",
     "output_type": "stream",
     "text": [
      "You are using pip version 8.1.1, however version 21.0.1 is available.\n",
      "You should consider upgrading via the 'python -m pip install --upgrade pip' command.\n"
     ]
    }
   ],
   "source": [
    " !pip install pyroutelib3==1.6.3"
   ]
  },
  {
   "cell_type": "code",
   "execution_count": 2,
   "id": "criminal-customs",
   "metadata": {},
   "outputs": [],
   "source": [
    "import folium,webbrowser # https://isn-icn-ljm.pagesperso-orange.fr/Cartographie/co/activiteapprentissage_itineraire_1.html\n",
    "from pyroutelib3 import Router # Import the router\n",
    "\n",
    "\n",
    "def itineraire(debut, fin, mode=\"foot\", verbose=False):\n",
    "    router = Router(mode) # Initialise it\n",
    "    start = router.findNode(*debut) # Find start and end nodes\n",
    "    end = router.findNode(*fin)\n",
    "\n",
    "    status, route = router.doRoute(start, end) # Find the route - a list of OSM nodes\n",
    "\n",
    "    if status == 'success':\n",
    "        routeLatLons = list(map(router.nodeLatLon, route)) # Get actual route coordinates\n",
    "        if verbose:print(len(routeLatLons))\n",
    "        return routeLatLons\n",
    "    else:\n",
    "        return []\n",
    "\n",
    "def visualisation(debut, coordonnees):\n",
    "    c= folium.Map(location=debut,zoom_start=10)\n",
    "    for indice,coord in enumerate(coordonnees):\n",
    "        coord=list(coord)\n",
    "        folium.Marker(coord).add_to(c)\n",
    "    return c\n",
    "\n",
    "#calcul distance http://villemin.gerard.free.fr/aGeograp/Distance.htm\n",
    "import math\n",
    "def distance(pt1,pt2): #point en coordonnées décimales\n",
    "    x=abs((pt1[0]-pt2[0])*(math.cos((pt1[1]+pt2[1])/2)))\n",
    "    y=abs(pt1[1]-pt2[1])\n",
    "    z=math.sqrt(x**2+y**2)\n",
    "    d=1852*60*z\n",
    "    return d\n",
    "\n",
    "def distance_liste(l):\n",
    "    return sum([distance(a,b) for a,b in zip(l[:-1],l[1:])])"
   ]
  },
  {
   "cell_type": "markdown",
   "id": "expanded-butler",
   "metadata": {},
   "source": [
    "## Retrouver les coordonnées du lycée de Joliot-Curie à Rennes\n",
    "\n",
    "Ouvrir Openstreetmap https://www.openstreetmap.org \n",
    "\n",
    "Clic droit : **Afficher l'adresse**\n",
    "\n",
    "Notez les coordonnées du point de départ : \n"
   ]
  },
  {
   "cell_type": "markdown",
   "id": "faced-carpet",
   "metadata": {},
   "source": [
    "## Retrouver les coordonnées de la Mairie de Tréhorenteuc \n",
    "\n",
    "Ouvrir Openstreetmap https://www.openstreetmap.org \n",
    "\n",
    "Clic droit : **Afficher l'adresse**\n",
    "\n",
    "Notez les coordonnées du point d'arrivée : \n",
    "\n",
    "Remplir les 2 premières lignes ci-dessous avant de l'exécuter."
   ]
  },
  {
   "cell_type": "code",
   "execution_count": null,
   "id": "distributed-adelaide",
   "metadata": {
    "collapsed": true
   },
   "outputs": [],
   "source": [
    "depart=(latitude, longitude) # A remplir avec les coordonnées du point de départ \n",
    "arrivee=(latitude, longitude) # A remplir avec les coordonnées du point d'arrivée' \n",
    "trajet_0 = itineraire(depart,arrivee,mode=\"car\")\n",
    "visualisation(arrivee, trajet_0)"
   ]
  },
  {
   "cell_type": "markdown",
   "id": "promotional-spanking",
   "metadata": {},
   "source": [
    "## Retrouver les coordonnées de la Mairie de Tréhorenteuc \n",
    "\n",
    "Reprendre les coordonnées du point d'arrivée au dessus\n",
    "\n",
    "Notez les coordonnées du point Trehorenteuc :"
   ]
  },
  {
   "cell_type": "markdown",
   "id": "threatened-probe",
   "metadata": {},
   "source": [
    "## Retrouver les coordonnées de l’Arbre d’Or près du Miroir aux fées\n",
    "\n",
    "Ouvrir Openstreetmap https://www.openstreetmap.org \n",
    "\n",
    "Notez les coordonnées du point Arbre_Or : \n",
    "\n",
    "Remplir les 2 premières lignes ci-dessous avant de l'exécuter."
   ]
  },
  {
   "cell_type": "code",
   "execution_count": null,
   "id": "fitting-leonard",
   "metadata": {
    "collapsed": true
   },
   "outputs": [],
   "source": [
    "Trehorenteuc = (latitude, longitude) # A remplir avec les coordonnées du point Trehorenteuc \n",
    "Arbre_Or = (latitude, longitude) # A remplir avec les coordonnées du point Arbre_Or\n",
    "\n",
    "trajet_1 = itineraire(Trehorenteuc, Arbre_Or)\n",
    "visualisation(Trehorenteuc, trajet_1)"
   ]
  },
  {
   "cell_type": "markdown",
   "id": "strange-journalism",
   "metadata": {},
   "source": [
    "## Retrouver les coordonnées de la Fontaine de Barenton\n",
    "\n",
    "Ouvrir Openstreetmap https://www.openstreetmap.org\n",
    "\n",
    "Notez les coordonnées du point Fontaine_Barenton :\n",
    "\n",
    "Remplir les 2 premières lignes ci-dessous avant de l'exécuter."
   ]
  },
  {
   "cell_type": "code",
   "execution_count": null,
   "id": "lasting-blake",
   "metadata": {
    "collapsed": true
   },
   "outputs": [],
   "source": [
    "Fontaine_Barenton = (latitude, longitude) # A remplir avec les coordonnées du point Fontaine_Barenton\n",
    "trajet_2 = itineraire(Arbre_Or,Fontaine_Barenton)\n",
    "visualisation(Arbre_Or, trajet_2)"
   ]
  },
  {
   "cell_type": "markdown",
   "id": "undefined-experience",
   "metadata": {},
   "source": [
    "## Trajet de retour à la voiture"
   ]
  },
  {
   "cell_type": "code",
   "execution_count": null,
   "id": "black-minister",
   "metadata": {
    "collapsed": true
   },
   "outputs": [],
   "source": [
    "trajet_3 = itineraire(Fontaine_Barenton, Trehorenteuc)\n",
    "visualisation(Fontaine_Barenton , trajet_3)"
   ]
  },
  {
   "cell_type": "markdown",
   "id": "breeding-indianapolis",
   "metadata": {},
   "source": [
    "### A quoi correspond la liste trajet_1 ? \n",
    "\n",
    "Exécutez la ligne ci-dessous\n"
   ]
  },
  {
   "cell_type": "code",
   "execution_count": null,
   "id": "widespread-process",
   "metadata": {
    "collapsed": true
   },
   "outputs": [],
   "source": [
    "trajet_1"
   ]
  },
  {
   "cell_type": "markdown",
   "id": "sunrise-bridges",
   "metadata": {},
   "source": [
    "## Extra \n",
    "\n",
    "Calculer pour les 4 trajets la distance à vol d'oiseau entre les points de départ et d'arrivée\n",
    "\n",
    "Calculer ensuite la distance réelle avec les points retournés par la fonction itinéraire."
   ]
  },
  {
   "cell_type": "code",
   "execution_count": null,
   "id": "following-restoration",
   "metadata": {
    "collapsed": true
   },
   "outputs": [],
   "source": []
  }
 ],
 "metadata": {
  "hide_input": false,
  "kernelspec": {
   "display_name": "Python 3",
   "language": "python",
   "name": "python3"
  },
  "language_info": {
   "codemirror_mode": {
    "name": "ipython",
    "version": 3
   },
   "file_extension": ".py",
   "mimetype": "text/x-python",
   "name": "python",
   "nbconvert_exporter": "python",
   "pygments_lexer": "ipython3",
   "version": "3.9.2"
  }
 },
 "nbformat": 4,
 "nbformat_minor": 5
}
