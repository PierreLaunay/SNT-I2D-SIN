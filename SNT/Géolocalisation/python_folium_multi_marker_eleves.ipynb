{
 "cells": [
  {
   "cell_type": "markdown",
   "metadata": {},
   "source": [
    "# Placer des marqueurs sur une carte avec Openstreetmap\n",
    "\n",
    "Nous allons utiliser la bibliothèque folium de python\n",
    "\n",
    "Vérifions que la bibliothèque est bien installée avant de commencer puis nous allons ouvrir une carte Openstreetmap avec 2 markeurs et centrer sur le lycée Joliot-Curie\n",
    "\n",
    "Exécuter la cellule python ci-dessous avec le triangle gris **&#8883;**\n"
   ]
  },
  {
   "cell_type": "code",
   "execution_count": 1,
   "metadata": {},
   "outputs": [
    {
     "name": "stdout",
     "output_type": "stream",
     "text": [
      "la version de folium est 0.10.1\n",
      "Celle de python est 3.7.6 (default, Jan  8 2020, 20:23:39) [MSC v.1916 64 bit (AMD64)]\n"
     ]
    },
    {
     "data": {
      "text/html": [
       "<div style=\"width:100%;\"><div style=\"position:relative;width:100%;height:0;padding-bottom:60%;\"><iframe src=\"about:blank\" style=\"position:absolute;width:100%;height:100%;left:0;top:0;border:none !important;\" data-html=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 onload=\"this.contentDocument.open();this.contentDocument.write(atob(this.getAttribute('data-html')));this.contentDocument.close();\" allowfullscreen webkitallowfullscreen mozallowfullscreen></iframe></div></div>"
      ],
      "text/plain": [
       "<folium.folium.Map at 0x22c5a613a48>"
      ]
     },
     "execution_count": 1,
     "metadata": {},
     "output_type": "execute_result"
    }
   ],
   "source": [
    "import os, sys\n",
    "try :\n",
    "    import folium\n",
    "except :\n",
    "    !pip install folium\n",
    "finally :\n",
    "    import folium\n",
    "print(f\"la version de folium est {folium.__version__}\\nCelle de python est {sys.version}\")\n",
    "\n",
    "# https://nbviewer.jupyter.org/github/python-visualization/folium/blob/master/examples/MarkerCluster.ipynb\n",
    "\n",
    "\"\"\"\n",
    "colors = [ 'red', 'blue', 'gray', 'darkred', 'lightred', 'orange', 'beige', 'green', 'darkgreen', 'lightgreen', \n",
    "'darkblue', 'lightblue', 'purple', 'darkpurple', 'pink', 'cadetblue', 'lightgray', 'black' ] #liste de couleurs\n",
    "\"\"\"\n",
    "from folium.plugins import MarkerCluster\n",
    "\n",
    "m = folium.Map(location=[48.126, -1.649], zoom_start=18)\n",
    "marker_cluster = MarkerCluster().add_to(m)\n",
    "\n",
    "\"\"\" #une fois la location remplie enlever cette ligne\n",
    "folium.Marker(\n",
    "    location=[,],# zone Espace Technologique à chercher et remplir \n",
    "    popup='STI2D-BTS',\n",
    "    icon=folium.Icon(color='beige', icon='plug',prefix='fa'), #green, black, white\n",
    ").add_to(marker_cluster)\n",
    "\"\"\" #une fois la location remplie enlever cette ligne\n",
    "\n",
    "folium.Marker(\n",
    "    location=[48.12638,-1.64835],\n",
    "    popup='CDI',\n",
    "    icon=folium.Icon(color='purple', icon='book',prefix='fa'), #purple\n",
    ").add_to(marker_cluster)\n",
    "\n",
    "\"\"\" #une fois la location remplie enlever cette ligne\n",
    "folium.Marker(\n",
    "    location=[,], # zone Espace Technologique à chercher et remplir \n",
    "    popup='Internat',\n",
    "    icon=folium.Icon(color='red',icon='hotel', prefix='fa') #red\n",
    ").add_to(marker_cluster)\n",
    "\"\"\" #une fois la location remplie enlever cette ligne\n",
    "\n",
    "folium.Marker(\n",
    "    location=[48.12623, -1.64912],\n",
    "    popup='SNT',\n",
    "    icon=folium.Icon(color='blue', icon='laptop',prefix='fa'), #blue\n",
    ").add_to(marker_cluster)\n",
    "\n",
    "m.save(os.path.join('Emplacement_Joliot_Curie.html'))\n",
    "m\n"
   ]
  },
  {
   "cell_type": "markdown",
   "metadata": {},
   "source": [
    "## Travail à faire !\n",
    "\n",
    "### Q1) Ajouter 2 markeurs\n",
    "\n",
    "Ouvrir Openstreetmap https://www.openstreetmap.org \n",
    "\n",
    "1. Rechercher \"Lycée Joliot Curie, Rennes\"\n",
    "2. Zoomer au maximum\n",
    "3. Clic droit sur la carte : centrer sur le batiment souhaité\n",
    "4. Clic droit sur la carte : afficher l'adresse\n",
    "\n",
    "Repérer dans Openstreetmap  de façon précise la latitude et la longitude de\n",
    " + **l'emplacement de l'Espace Technologique** du lycée Joliot-Curie à Rennes\n",
    " + **l'emplacement du Batiment G** du lycée Joliot-Curie à Rennes\n",
    " \n",
    "**Remplir les 2 lignes dans le fichier ci-dessus qui se terminent par** *à chercher et remplir*\n",
    " \n",
    "N'oubliez pas d'enlever les 4 lignes qui commencent par \"\"\" (3 guillemets) : \n",
    "\n",
    "\"\"\" #une fois la location remplie enlever cette ligne \n",
    "\n",
    "### Exécuter à nouveau la cellule python ci-dessus !\n",
    "\n",
    "Vous devriez voir 4 markeurs maintenant !\n",
    "\n",
    "- **Attention si rien n'apparaît après des modifications**, il faut relancer le noyau avec **&#10227;** *Restart the kernel*"
   ]
  },
  {
   "cell_type": "markdown",
   "metadata": {},
   "source": [
    "### Q2) A quoi correspond le popup sur la carte ?\n",
    "<br><br>\n",
    "\n",
    "### Q3) Remplacer SNT par SNT-NSI dans le dernier pop-up"
   ]
  },
  {
   "cell_type": "markdown",
   "metadata": {},
   "source": [
    "# Extra \n",
    "Ajoutez d'autres markers pour les batiments D, K et le Restaurant Inter-établissement\n",
    "\n",
    "Vous pourrez choisir des icones dans  https://github.com/lvoogdt/Leaflet.awesome-markers"
   ]
  },
  {
   "cell_type": "markdown",
   "metadata": {},
   "source": [
    "### Q4) Sauvegarder votre fichier python_folium_multi_marker_eleves en remplaçant eleves par votre nom et prénom\n",
    "\n",
    "- Dans cette fenêtre cliquer sur la disquette pour sauvegarder ce fichier.\n",
    "- Tout en haut à gauche de cette zone, clic droit sur le nom 'python_folium_multi_marker_eleves'  : Rename Notebook : 'python_folium_multi_marker_nom_prenom'\n",
    "- Dans la fenêtre de gauche clic droit sur le fichier 'python_folium_multi_marker_nom_prenom.ipynb' : Download puis enregistrer le fichier.\n",
    "\n",
    "### Q5) Sauvegarder le fichier 'Emplacement_Joliot_Curie.html'\n",
    "\n",
    "- Dans la fenêtre de gauche clic droit sur le fichier 'Emplacement_Joliot_Curie.html' : Download puis enregistrer le fichier.\n",
    "\n",
    "**Vous devez rendre ces deux fichiers**"
   ]
  },
  {
   "cell_type": "code",
   "execution_count": null,
   "metadata": {},
   "outputs": [],
   "source": []
  }
 ],
 "metadata": {
  "hide_input": false,
  "kernelspec": {
   "display_name": "Python 3",
   "language": "python",
   "name": "python3"
  },
  "language_info": {
   "codemirror_mode": {
    "name": "ipython",
    "version": 3
   },
   "file_extension": ".py",
   "mimetype": "text/x-python",
   "name": "python",
   "nbconvert_exporter": "python",
   "pygments_lexer": "ipython3",
   "version": "3.7.6"
  }
 },
 "nbformat": 4,
 "nbformat_minor": 2
}
