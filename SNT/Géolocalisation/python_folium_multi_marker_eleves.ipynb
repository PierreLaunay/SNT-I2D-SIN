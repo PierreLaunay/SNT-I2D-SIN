{
 "cells": [
  {
   "cell_type": "markdown",
   "metadata": {},
   "source": [
    "# Placer des marqueurs sur une carte avec Openstreetmap\n",
    "\n",
    "Nous allons utiliser la bibliothèque folium de python\n",
    "\n",
    "Vérifions que la bibliothèque est bien installée avant de commencer puis nous allons ouvrir une carte Openstreetmap avec 2 markeurs et centrer sur le lycée Joliot-Curie\n",
    "\n",
    "Exécuter la cellule python ci-dessous avec le triangle gris **&#8883;**\n"
   ]
  },
  {
   "cell_type": "code",
   "execution_count": null,
   "metadata": {},
   "outputs": [],
   "source": [
    "import os, sys\n",
    "try :\n",
    "    import folium\n",
    "except :\n",
    "    !pip install folium\n",
    "finally :\n",
    "    import folium\n",
    "print(f\"la version de folium est {folium.__version__}\\nCelle de python est {sys.version}\")\n",
    "\n",
    "# https://nbviewer.jupyter.org/github/python-visualization/folium/blob/master/examples/MarkerCluster.ipynb\n",
    "\n",
    "\"\"\"\n",
    "colors = [ 'red', 'blue', 'gray', 'darkred', 'lightred', 'orange', 'beige', 'green', 'darkgreen', 'lightgreen', \n",
    "'darkblue', 'lightblue', 'purple', 'darkpurple', 'pink', 'cadetblue', 'lightgray', 'black' ] #liste de couleurs\n",
    "\"\"\"\n",
    "from folium.plugins import MarkerCluster\n",
    "\n",
    "m = folium.Map(location=[48.126, -1.649], zoom_start=18)\n",
    "marker_cluster = MarkerCluster().add_to(m)\n",
    "\n",
    "\"\"\" #une fois la location remplie enlever cette ligne\n",
    "folium.Marker(\n",
    "    location=[,],# zone Espace Technologique à chercher et remplir \n",
    "    popup='STI2D-BTS',\n",
    "    icon=folium.Icon(color='beige', icon='plug',prefix='fa'), #green, black, white\n",
    ").add_to(marker_cluster)\n",
    "\"\"\" #une fois la location remplie enlever cette ligne\n",
    "\n",
    "folium.Marker(\n",
    "    location=[48.12638,-1.64835],\n",
    "    popup='CDI',\n",
    "    icon=folium.Icon(color='purple', icon='book',prefix='fa'), #purple\n",
    ").add_to(marker_cluster)\n",
    "\n",
    "\"\"\" #une fois la location remplie enlever cette ligne\n",
    "folium.Marker(\n",
    "    location=[,], # zone Espace Technologique à chercher et remplir \n",
    "    popup='Internat',\n",
    "    icon=folium.Icon(color='red',icon='hotel', prefix='fa') #red\n",
    ").add_to(marker_cluster)\n",
    "\"\"\" #une fois la location remplie enlever cette ligne\n",
    "\n",
    "folium.Marker(\n",
    "    location=[48.12623, -1.64912],\n",
    "    popup='SNT',\n",
    "    icon=folium.Icon(color='blue', icon='laptop',prefix='fa'), #blue\n",
    ").add_to(marker_cluster)\n",
    "\n",
    "m.save(os.path.join('Emplacement_Joliot_Curie.html'))\n",
    "m\n"
   ]
  },
  {
   "cell_type": "markdown",
   "metadata": {},
   "source": [
    "## Travail à faire !\n",
    "\n",
    "### Q1) Ajouter 2 markeurs\n",
    "\n",
    "Ouvrir Openstreetmap"
   ]
  },
  {
   "cell_type": "code",
   "execution_count": 5,
   "metadata": {
    "scrolled": true
   },
   "outputs": [
    {
     "data": {
      "text/plain": [
       "True"
      ]
     },
     "execution_count": 5,
     "metadata": {},
     "output_type": "execute_result"
    }
   ],
   "source": [
    "import webbrowser\n",
    "webbrowser.open(\"https://www.openstreetmap.org/\")"
   ]
  },
  {
   "cell_type": "markdown",
   "metadata": {},
   "source": [
    "1. Rechercher \"Lycée Joliot Curie, Rennes\"\n",
    "2. Zoomer au maximum\n",
    "3. Clic droit sur la carte : centrer sur le batiment souhaité\n",
    "4. Clic droit sur la carte : afficher l'adresse\n",
    "\n",
    "Repérer dans Openstreetmap  de façon précise la latitude et la longitude de\n",
    " + **l'emplacement de l'Espace Technologique** du lycée Joliot-Curie à Rennes\n",
    " + **l'emplacement du Batiment G** du lycée Joliot-Curie à Rennes\n",
    " \n",
    "**Remplir les 2 lignes dans le fichier ci-dessus qui se terminent par** *à chercher et remplir*\n",
    " \n",
    "N'oubliez pas d'enlever les 4 lignes qui commencent par \"\"\" (3 guillemets) : \n",
    "\n",
    "\"\"\" #une fois la location remplie enlever cette ligne \n",
    "\n",
    "### Exécuter à nouveau la cellule python ci-dessus !\n",
    "\n",
    "Vous devriez voir 4 markeurs maintenant !\n",
    "\n",
    "- **Attention si rien n'apparaît après des modifications**, il faut relancer le noyau avec **&#10227;** *Restart the kernel*"
   ]
  },
  {
   "cell_type": "markdown",
   "metadata": {},
   "source": [
    "### Q2) A quoi correspond le popup sur la carte ?\n",
    "<br><br>\n",
    "\n",
    "### Q3) Remplacer SNT par SNT-NSI dans le dernier pop-up"
   ]
  },
  {
   "cell_type": "markdown",
   "metadata": {},
   "source": [
    "# Extra \n",
    "Ajoutez d'autres markers pour les batiments D, K et le Restaurant Inter-établissement\n",
    "\n",
    "Vous pourrez choisir des icones dans  https://github.com/lvoogdt/Leaflet.awesome-markers"
   ]
  },
  {
   "cell_type": "markdown",
   "metadata": {},
   "source": [
    "### Q4) Sauvegarder votre fichier python_folium_multi_marker_eleves en remplaçant eleves par votre nom et prénom\n",
    "\n",
    "- Dans cette fenêtre cliquer sur la disquette pour sauvegarder ce fichier.\n",
    "- Tout en haut à gauche de cette zone, clic droit sur le nom 'python_folium_multi_marker_eleves'  : Rename Notebook : 'python_folium_multi_marker_nom_prenom'\n",
    "- Dans la fenêtre de gauche clic droit sur le fichier 'python_folium_multi_marker_nom_prenom.ipynb' : Download puis enregistrer le fichier.\n",
    "\n",
    "### Q5) Sauvegarder le fichier 'Emplacement_Joliot_Curie.html'\n",
    "\n",
    "- Dans la fenêtre de gauche clic droit sur le fichier 'Emplacement_Joliot_Curie.html' : Download puis enregistrer le fichier.\n",
    "\n",
    "**Vous devez rendre ces deux fichiers**"
   ]
  },
  {
   "cell_type": "code",
   "execution_count": null,
   "metadata": {},
   "outputs": [],
   "source": []
  }
 ],
 "metadata": {
  "hide_input": false,
  "kernelspec": {
   "display_name": "Python 3",
   "language": "python",
   "name": "python3"
  },
  "language_info": {
   "codemirror_mode": {
    "name": "ipython",
    "version": 3
   },
   "file_extension": ".py",
   "mimetype": "text/x-python",
   "name": "python",
   "nbconvert_exporter": "python",
   "pygments_lexer": "ipython3",
   "version": "3.8.5"
  }
 },
 "nbformat": 4,
 "nbformat_minor": 2
}
