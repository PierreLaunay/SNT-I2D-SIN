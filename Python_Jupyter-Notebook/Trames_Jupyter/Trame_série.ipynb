{
 "cells": [
  {
   "cell_type": "markdown",
   "id": "19b9df28",
   "metadata": {},
   "source": [
    "# Trame série avec Tkinter\n",
    "\n",
    "Tkinter avec fenêtre et interface graphique"
   ]
  },
  {
   "cell_type": "code",
   "execution_count": 3,
   "id": "51ed960a",
   "metadata": {},
   "outputs": [],
   "source": [
    "#!/usr/local/bin/python3\n",
    "# coding: utf-8\n",
    "\n",
    "import tkinter as tk\n",
    "#au maximum on prévoit 13 bits dont 2 repos\n",
    "lx=[x//2 for x in range(3,29)] # lx=[1,2,2,3,3,4,4,5,5,6,6,7,7,8,8,9,9,10,10,11,11,12,12,13,13,14]\n",
    "\n",
    "def aff_dhbC(decimal):\n",
    "    raz()\n",
    "    Dsaisie.insert( 0, decimal)\n",
    "    hexa=hex(int(decimal))[2:]\n",
    "    Hsaisie.insert( 0, hexa)\n",
    "    taille = checkbit.get() # connaitre le nb de bits\n",
    "    nb='{:0'+str(taille)+'b}' # 7 ou 8 bits\n",
    "    bits=nb.format(int(decimal))\n",
    "    Bsaisie.insert( 0, bits)\n",
    "    car=chr(int(decimal))\n",
    "    Csaisie.insert( 0, car)\n",
    "    return bits\n",
    "\n",
    "res='Bits transmis : '\n",
    "ancien={}\n",
    "\n",
    "def get_values():\n",
    "    values = {\n",
    "        \"C\": Csaisie.get(),\n",
    "        \"D\": Dsaisie.get(),\n",
    "        \"H\":Hsaisie.get(),\n",
    "        \"B\":Bsaisie.get()\n",
    "        }\n",
    "    return values\n",
    "\n",
    "def convertir():\n",
    "    global ancien\n",
    "    saisies = get_values()\n",
    "    if saisies.get(\"C\") !='' and saisies.get(\"C\") != ancien.get(\"C\"):\n",
    "        dec=str(ord(saisies.get(\"C\")))\n",
    "    elif saisies.get(\"D\") !='' and saisies.get(\"D\") != ancien.get(\"D\") :\n",
    "        dec=str(saisies.get(\"D\"))\n",
    "    elif saisies.get(\"H\") !='' and saisies.get(\"H\") != ancien.get(\"H\") :\n",
    "        dec=str(int(saisies.get(\"H\"),16))\n",
    "    elif saisies.get(\"B\") !='' and saisies.get(\"B\") != ancien.get(\"B\") :\n",
    "        dec=str(int(saisies.get(\"B\"),2))\n",
    "    else:\n",
    "        dec=str(ord(saisies.get(\"C\")))\n",
    "    binaire=aff_dhbC(dec)\n",
    "    saisies = get_values()\n",
    "    taille = checkbit.get()\n",
    "    #print(taille,binaire,len(binaire))\n",
    "    ancien=saisies.copy()\n",
    "    if taille : # un des 2 choix validé pour nb bits\n",
    "        binaire='0'*(taille-len(binaire))+binaire\n",
    "        mot='0'+binaire[::-1] #bit de start\n",
    "        parite = checkpar.get()\n",
    "        if parite :\n",
    "            bit_par= (sum([int(i) for i in mot])%2) ^(parite %2)\n",
    "            mot+=str(bit_par) # avec la parité\n",
    "        mot+='1' #bit de stop\n",
    "        Rlabel.config(text=res+mot) # affiche les bits transmis \n",
    "        can.delete(tk.ALL)\n",
    "        ly=[1,1] #on met les 2 valeurs pour le repos\n",
    "        for i in mot:\n",
    "            ly.append(int(i))\n",
    "            ly.append(int(i))\n",
    "        ly.append(1) #stop et fin trame\n",
    "        ly.append(1)\n",
    "        kx,ky=20,80\n",
    "        Lx=[2*kx*x for x in lx]\n",
    "        Ly=[3*ky-2*ky*y for y in ly]\n",
    "        l=list(zip(Lx,Ly))\n",
    "        t=tuple(l)\n",
    "        can.create_line(t)\n",
    "        nom=[\"REPOS\",\"START\",\"Parité\",\"STOP\"]\n",
    "        texte=[\"\\n\".join([i for i in n]) for n in nom] #nom en vertical\n",
    "        can.create_text(3*kx,2*ky,text=texte[0])\n",
    "        can.create_text(5*kx,2*ky,text=texte[1])\n",
    "        for i in range(taille) :\n",
    "            data = 'D\\n'+str(i)+'\\n'\n",
    "            can.create_text(7*kx+2*kx*i,2*ky,text=data)\n",
    "        if parite :\n",
    "            i+=1\n",
    "            can.create_text(7*kx+2*kx*i,2*ky,text=texte[2])\n",
    "        can.create_text(9*kx+2*kx*i,2*ky,text=texte[3])\n",
    "        can.create_text(11*kx+2*kx*i,2*ky,text=texte[0])\n",
    "def raz():\n",
    "    Dsaisie.delete(0,10)\n",
    "    Hsaisie.delete(0,10)\n",
    "    Bsaisie.delete(0,30)\n",
    "    Csaisie.delete(0,10)\n",
    "\n",
    "fen=tk.Tk()\n",
    "fen.title(\"Trame Liaison Série\")\n",
    "checkbit= tk.IntVar()\n",
    "checkpar= tk.IntVar()\n",
    "checkbit.set(8) # 8 bits par défaut\n",
    "checkpar.set(0) # pas de parité par défaut\n",
    "\n",
    "# choix du nombre de bits 7 ou 8\n",
    "tk.Label(fen,text=\"Nombre de bits\").grid(row=0,column=0)\n",
    "checkBox7 = tk.Checkbutton(fen, variable=checkbit, onvalue=7, offvalue=0, text=\"7\").grid(row=0,column=1)\n",
    "checkBox8 = tk.Checkbutton(fen, variable=checkbit, onvalue=8, offvalue=0, text=\"8\").grid(row=0,column=2)\n",
    "\n",
    "# Parité None Even Odd\n",
    "tk.Label(fen,text=\"Parité\").grid(row=1,column=0)\n",
    "checkBox0 = tk.Checkbutton(fen, variable=checkpar, onvalue=2, offvalue=0, text=\"Even Paire\").grid(row=1,column=1)\n",
    "checkBox1 = tk.Checkbutton(fen, variable=checkpar, onvalue=1, offvalue=0, text=\"Odd Impaire\").grid(row=1,column=2)\n",
    "checkBox2 = tk.Checkbutton(fen, variable=checkpar, onvalue=0, offvalue=0, text=\"None\").grid(row=1,column=3)\n",
    "\n",
    "# Texte du choix de l'entrée \n",
    "tk.Label(fen,text=\"Caractère\").grid(row=2,column=0)\n",
    "tk.Label(fen,text=\"Décimal\").grid(row=3,column=0)\n",
    "tk.Label(fen,text=\"Hexadécimal\").grid(row=4,column=0)\n",
    "tk.Label(fen,text=\"Binaire\").grid(row=5,column=0)\n",
    "\n",
    "# Lecture des entrées \n",
    "Csaisie=tk.Entry(fen)\n",
    "Csaisie.grid(row=2,column=1, columnspan=3)\n",
    "Dsaisie=tk.Entry(fen)\n",
    "Dsaisie.grid(row=3,column=1, columnspan=3)\n",
    "Hsaisie=tk.Entry(fen)\n",
    "Hsaisie.grid(row=4,column=1, columnspan=3)\n",
    "Bsaisie=tk.Entry(fen)\n",
    "Bsaisie.grid(row=5,column=1, columnspan=3)\n",
    "\n",
    "#Zone de la trame série\n",
    "can=tk.Canvas(fen,bg='white',height=320,width=640)\n",
    "can.grid(row=6,column=0, columnspan=4)\n",
    "\n",
    "#Barre du bas \n",
    "Bconvertir=tk.Button(fen,text=\"Convertir\",command=convertir)\n",
    "Bconvertir.grid(row=7,column=0)\n",
    "Braz=tk.Button(fen,text=\"RAZ\",command=raz)\n",
    "Braz.grid(row=7,column=1)\n",
    "\n",
    "Rlabel=tk.Label(fen,text=res) #texte des bits transmis\n",
    "Rlabel.grid(row=7,column=2, columnspan=2) #emplacement \n",
    "\n",
    "fen.mainloop() #fin de la fenêtre Tk\n"
   ]
  },
  {
   "cell_type": "markdown",
   "id": "06e8aaf0",
   "metadata": {},
   "source": [
    "# Trames série plus longues avec pylab"
   ]
  },
  {
   "cell_type": "code",
   "execution_count": 30,
   "id": "889c317f",
   "metadata": {},
   "outputs": [],
   "source": [
    "#!/usr/bin/python3\n",
    "# coding: utf-8\n",
    "import pylab\n",
    "import sys\n",
    "\n",
    "def serialisation(nb,b,parite) :\n",
    "    n=bin(nb)[2:]\t#conversion en binaire et on enlève '0b'\n",
    "    n='0'*(b-len(n))+n #on remplit les 0 manquants pour avoir 8 bits \n",
    "    n=n[::-1]\t#on inverse l'ordre des 8 bits D0-D7\n",
    "    if parite :\n",
    "        bit_par= (sum([int(i) for i in n])%2) ^(parite %2)\n",
    "        n+=str(bit_par) # avec la parité\n",
    "    n='0'+n+'1' \n",
    "    # n : b bits dont parité, 1 bit start + 1 bit stop\n",
    "    return n\n",
    "def affichage(trame,taille,parite,temps) :\n",
    "    #lx=[x//2 for x in range(3,7+2*len(trame))]\n",
    "    lx=[temps*(x//2) for x in range(3,7+2*len(trame))]\n",
    "    ly=[1,1] #les points pour y (repos debut)\n",
    "    for i in trame:\n",
    "        ly.append(int(i))\n",
    "        ly.append(int(i))\n",
    "    ly.append(1)\n",
    "    ly.append(1) #repos final\n",
    "    x = pylab.array(lx)\n",
    "    y = pylab.array(ly)\n",
    "    pylab.plot(x,y)\n",
    "    pylab.text(1.5, 0.5, \"repos\", fontsize=12,rotation=90)\n",
    "    for i in range(len(trame)//taille):\n",
    "        for j in range(taille) :\n",
    "            if (j == 0) :\n",
    "                pylab.text(temps*(2.5+j+i*taille), 0.5, \"start\", fontsize=12,rotation=90)\n",
    "            elif (j==taille-1):\n",
    "                pylab.text(temps*(2.5+j+i*taille), 0.5, \"stop\", fontsize=12,rotation=90)\n",
    "            elif parite and (j==taille-2):\n",
    "                pylab.text(temps*(2.5+j+i*taille), 0.5, \"parité\", fontsize=12,rotation=90)\n",
    "            else :\n",
    "                t=f'D{j-1}'\n",
    "                pylab.text(temps*(2.5+j+i*taille), 0.5, t, fontsize=12,rotation=90)\n",
    "    pylab.text(temps*(2.5+len(trame)), 0.5, \"repos\", fontsize=12,rotation=90)\n",
    "    pylab.text(temps*len(trame)/2,-0.22, \"temps en µs (microsecondes)\")\n",
    "    pylab.gcf().set_size_inches(20, 5)\n",
    "    pylab.show()\n",
    "\n",
    "def graphes_serie(a,b,c,l):\n",
    "    print(a,b,c,l)\n",
    "    bit=int(a)\n",
    "    lmot=bit+2\n",
    "    if (b.lower() == 'n')  :\n",
    "        par = 0\n",
    "    elif (b.lower() == 'o') or (b.lower() == 'i') :\n",
    "        par = 1\n",
    "        lmot+=1\n",
    "    elif (b.lower() == 'e') or (b.lower() == 'p') :\n",
    "        par = 2\n",
    "        lmot+=1\n",
    "    else :\n",
    "        print(\"Erreur la parité doit être N O ou I E ou P \")\n",
    "        sys.exit(1)        \n",
    "    s=''\n",
    "    periode=1e6/int(c)\n",
    "    for x in l :\n",
    "        if x.isalpha():\n",
    "            x=ord(x)\n",
    "        elif not x.isnumeric() :\n",
    "            print(\"Erreur trame\")\n",
    "            sys.exit(1)\n",
    "        s+=serialisation(int(x),bit,par)\n",
    "        print(hex(int(x)),end=' ')\n",
    "    affichage(s,lmot,par,periode)\n",
    "\n",
    "#-----------main-------------\n",
    "# exemple python3 serie_affichage_python.py 8 N 1200 S 10 13\n",
    "# graphes_serie(8,'N',1200,('a','b','10','13'))"
   ]
  },
  {
   "cell_type": "code",
   "execution_count": 31,
   "id": "c9c53067",
   "metadata": {},
   "outputs": [
    {
     "name": "stdout",
     "output_type": "stream",
     "text": [
      "7 E 1200 ('a', 'b', '10', '13')\n",
      "0x61 0x62 0xa 0xd "
     ]
    },
    {
     "data": {
      "image/png": "[encoded data removed]",
      "text/plain": [
       "<Figure size 2000x500 with 1 Axes>"
      ]
     },
     "metadata": {},
     "output_type": "display_data"
    }
   ],
   "source": [
    "graphes_serie(7,'E',1200,('a','b','10','13'))"
   ]
  },
  {
   "cell_type": "code",
   "execution_count": 32,
   "id": "355b3b01",
   "metadata": {},
   "outputs": [
    {
     "name": "stdout",
     "output_type": "stream",
     "text": [
      "8 N 9600 SIN\n",
      "0x53 0x49 0x4e "
     ]
    },
    {
     "data": {
      "image/png": "[encoded data removed]",
      "text/plain": [
       "<Figure size 2000x500 with 1 Axes>"
      ]
     },
     "metadata": {},
     "output_type": "display_data"
    }
   ],
   "source": [
    "graphes_serie(8,'N',9600,\"SIN\")"
   ]
  },
  {
   "cell_type": "code",
   "execution_count": null,
   "id": "cde3ccdc",
   "metadata": {},
   "outputs": [],
   "source": []
  }
 ],
 "metadata": {
  "hide_input": false,
  "kernelspec": {
   "display_name": "Python 3",
   "language": "python",
   "name": "python3"
  },
  "language_info": {
   "codemirror_mode": {
    "name": "ipython",
    "version": 3
   },
   "file_extension": ".py",
   "mimetype": "text/x-python",
   "name": "python",
   "nbconvert_exporter": "python",
   "pygments_lexer": "ipython3",
   "version": "3.8.8"
  },
  "varInspector": {
   "cols": {
    "lenName": 16,
    "lenType": 16,
    "lenVar": 40
   },
   "kernels_config": {
    "python": {
     "delete_cmd_postfix": "",
     "delete_cmd_prefix": "del ",
     "library": "var_list.py",
     "varRefreshCmd": "print(var_dic_list())"
    },
    "r": {
     "delete_cmd_postfix": ") ",
     "delete_cmd_prefix": "rm(",
     "library": "var_list.r",
     "varRefreshCmd": "cat(var_dic_list()) "
    }
   },
   "types_to_exclude": [
    "module",
    "function",
    "builtin_function_or_method",
    "instance",
    "_Feature"
   ],
   "window_display": false
  }
 },
 "nbformat": 4,
 "nbformat_minor": 5
}
